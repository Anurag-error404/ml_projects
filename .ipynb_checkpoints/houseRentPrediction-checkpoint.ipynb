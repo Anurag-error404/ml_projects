{
 "cells": [
  {
   "cell_type": "code",
   "execution_count": 1,
   "id": "30453291-da4e-4abd-a97c-eaa600eed6ab",
   "metadata": {},
   "outputs": [],
   "source": [
    "import pandas as pd"
   ]
  },
  {
   "cell_type": "code",
   "execution_count": 2,
   "id": "bfbdfa70-be9e-4b46-bc8f-6142cb8c6b24",
   "metadata": {},
   "outputs": [],
   "source": [
    "df = pd.read_csv('House_Rent_Dataset.csv')"
   ]
  },
  {
   "cell_type": "code",
   "execution_count": 3,
   "id": "3749ea17-3622-4791-bee3-f35b1ec3873c",
   "metadata": {},
   "outputs": [
    {
     "name": "stdout",
     "output_type": "stream",
     "text": [
      "<class 'pandas.core.frame.DataFrame'>\n",
      "RangeIndex: 4746 entries, 0 to 4745\n",
      "Data columns (total 12 columns):\n",
      " #   Column             Non-Null Count  Dtype \n",
      "---  ------             --------------  ----- \n",
      " 0   Posted On          4746 non-null   object\n",
      " 1   BHK                4746 non-null   int64 \n",
      " 2   Rent               4746 non-null   int64 \n",
      " 3   Size               4746 non-null   int64 \n",
      " 4   Floor              4746 non-null   object\n",
      " 5   Area Type          4746 non-null   object\n",
      " 6   Area Locality      4746 non-null   object\n",
      " 7   City               4746 non-null   object\n",
      " 8   Furnishing Status  4746 non-null   object\n",
      " 9   Tenant Preferred   4746 non-null   object\n",
      " 10  Bathroom           4746 non-null   int64 \n",
      " 11  Point of Contact   4746 non-null   object\n",
      "dtypes: int64(4), object(8)\n",
      "memory usage: 445.1+ KB\n"
     ]
    }
   ],
   "source": [
    "df.info()"
   ]
  },
  {
   "cell_type": "code",
   "execution_count": 5,
   "id": "093ba8c8-f344-4db4-a36b-f0024a00762d",
   "metadata": {},
   "outputs": [],
   "source": [
    "df2 = pd.read_csv('house_rent.csv')"
   ]
  },
  {
   "cell_type": "code",
   "execution_count": 6,
   "id": "bc173917-0673-4ec3-9908-32eb9cdea31a",
   "metadata": {},
   "outputs": [
    {
     "name": "stdout",
     "output_type": "stream",
     "text": [
      "<class 'pandas.core.frame.DataFrame'>\n",
      "RangeIndex: 4746 entries, 0 to 4745\n",
      "Data columns (total 12 columns):\n",
      " #   Column             Non-Null Count  Dtype  \n",
      "---  ------             --------------  -----  \n",
      " 0   Posted On          4746 non-null   object \n",
      " 1   BHK                4745 non-null   float64\n",
      " 2   Rent               4740 non-null   float64\n",
      " 3   Size               4745 non-null   float64\n",
      " 4   Floor              4743 non-null   object \n",
      " 5   Area Type          4737 non-null   object \n",
      " 6   Area Locality      4736 non-null   object \n",
      " 7   City               4740 non-null   object \n",
      " 8   Furnishing Status  4736 non-null   object \n",
      " 9   Tenant Preferred   4737 non-null   object \n",
      " 10  Bathroom           4743 non-null   float64\n",
      " 11  Point of Contact   4738 non-null   object \n",
      "dtypes: float64(4), object(8)\n",
      "memory usage: 445.1+ KB\n"
     ]
    }
   ],
   "source": [
    "df2.info()"
   ]
  },
  {
   "cell_type": "code",
   "execution_count": 7,
   "id": "a14e2df0-158f-4226-b530-840d859e2589",
   "metadata": {},
   "outputs": [],
   "source": [
    "cols = ['Point of Contact', 'Tenant Preferred']\n",
    "df2 = df2.drop(cols, axis =1)"
   ]
  },
  {
   "cell_type": "code",
   "execution_count": 8,
   "id": "0b03a994-0220-468d-9d86-0e572929eb76",
   "metadata": {},
   "outputs": [
    {
     "name": "stdout",
     "output_type": "stream",
     "text": [
      "<class 'pandas.core.frame.DataFrame'>\n",
      "RangeIndex: 4746 entries, 0 to 4745\n",
      "Data columns (total 10 columns):\n",
      " #   Column             Non-Null Count  Dtype  \n",
      "---  ------             --------------  -----  \n",
      " 0   Posted On          4746 non-null   object \n",
      " 1   BHK                4745 non-null   float64\n",
      " 2   Rent               4740 non-null   float64\n",
      " 3   Size               4745 non-null   float64\n",
      " 4   Floor              4743 non-null   object \n",
      " 5   Area Type          4737 non-null   object \n",
      " 6   Area Locality      4736 non-null   object \n",
      " 7   City               4740 non-null   object \n",
      " 8   Furnishing Status  4736 non-null   object \n",
      " 9   Bathroom           4743 non-null   float64\n",
      "dtypes: float64(4), object(6)\n",
      "memory usage: 370.9+ KB\n"
     ]
    }
   ],
   "source": [
    "df2.info()"
   ]
  },
  {
   "cell_type": "code",
   "execution_count": 9,
   "id": "2cbcffa6-177e-4782-be0a-399b8ec978d5",
   "metadata": {},
   "outputs": [],
   "source": [
    "df2 = df2.dropna()"
   ]
  },
  {
   "cell_type": "code",
   "execution_count": 10,
   "id": "c03a09d1-b927-4cb7-8e35-94b030c15d05",
   "metadata": {},
   "outputs": [
    {
     "name": "stdout",
     "output_type": "stream",
     "text": [
      "<class 'pandas.core.frame.DataFrame'>\n",
      "Int64Index: 4710 entries, 0 to 4745\n",
      "Data columns (total 10 columns):\n",
      " #   Column             Non-Null Count  Dtype  \n",
      "---  ------             --------------  -----  \n",
      " 0   Posted On          4710 non-null   object \n",
      " 1   BHK                4710 non-null   float64\n",
      " 2   Rent               4710 non-null   float64\n",
      " 3   Size               4710 non-null   float64\n",
      " 4   Floor              4710 non-null   object \n",
      " 5   Area Type          4710 non-null   object \n",
      " 6   Area Locality      4710 non-null   object \n",
      " 7   City               4710 non-null   object \n",
      " 8   Furnishing Status  4710 non-null   object \n",
      " 9   Bathroom           4710 non-null   float64\n",
      "dtypes: float64(4), object(6)\n",
      "memory usage: 404.8+ KB\n"
     ]
    }
   ],
   "source": [
    "df2.info()"
   ]
  },
  {
   "cell_type": "code",
   "execution_count": 11,
   "id": "eb83eb38-f28d-45b6-8a21-904bcb966b11",
   "metadata": {},
   "outputs": [],
   "source": [
    "dummies = []\n",
    "cols = ['Area Type', 'Furnishing Status']\n",
    "for col in cols:\n",
    "    dummies.append(pd.get_dummies(df[col]))"
   ]
  },
  {
   "cell_type": "code",
   "execution_count": 12,
   "id": "5e05fcf4-8f05-433c-a55e-62f397819af4",
   "metadata": {},
   "outputs": [],
   "source": [
    "rent_dummies = pd.concat(dummies, axis=1)"
   ]
  },
  {
   "cell_type": "code",
   "execution_count": 13,
   "id": "c6043a7a-bcee-4e94-8d75-eeaa74493351",
   "metadata": {},
   "outputs": [],
   "source": [
    "df2 = pd.concat((df2,rent_dummies), axis=1)"
   ]
  },
  {
   "cell_type": "code",
   "execution_count": 14,
   "id": "822f2f34-eb87-49aa-b49b-9fffb7f0b99c",
   "metadata": {},
   "outputs": [],
   "source": [
    "df2 = df2.drop(['Area Type', 'Furnishing Status'], axis=1)"
   ]
  },
  {
   "cell_type": "code",
   "execution_count": 16,
   "id": "81d4df70-2e98-43b6-809c-f19816a9965c",
   "metadata": {},
   "outputs": [
    {
     "name": "stdout",
     "output_type": "stream",
     "text": [
      "<class 'pandas.core.frame.DataFrame'>\n",
      "Int64Index: 4746 entries, 0 to 336\n",
      "Data columns (total 14 columns):\n",
      " #   Column          Non-Null Count  Dtype  \n",
      "---  ------          --------------  -----  \n",
      " 0   Posted On       4710 non-null   object \n",
      " 1   BHK             4710 non-null   float64\n",
      " 2   Rent            4710 non-null   float64\n",
      " 3   Size            4710 non-null   float64\n",
      " 4   Floor           4710 non-null   object \n",
      " 5   Area Locality   4710 non-null   object \n",
      " 6   City            4710 non-null   object \n",
      " 7   Bathroom        4710 non-null   float64\n",
      " 8   Built Area      4746 non-null   uint8  \n",
      " 9   Carpet Area     4746 non-null   uint8  \n",
      " 10  Super Area      4746 non-null   uint8  \n",
      " 11  Furnished       4746 non-null   uint8  \n",
      " 12  Semi-Furnished  4746 non-null   uint8  \n",
      " 13  Unfurnished     4746 non-null   uint8  \n",
      "dtypes: float64(4), object(4), uint8(6)\n",
      "memory usage: 361.5+ KB\n"
     ]
    }
   ],
   "source": [
    "df2.info()"
   ]
  }
 ],
 "metadata": {
  "kernelspec": {
   "display_name": "Python 3 (ipykernel)",
   "language": "python",
   "name": "python3"
  },
  "language_info": {
   "codemirror_mode": {
    "name": "ipython",
    "version": 3
   },
   "file_extension": ".py",
   "mimetype": "text/x-python",
   "name": "python",
   "nbconvert_exporter": "python",
   "pygments_lexer": "ipython3",
   "version": "3.9.2"
  }
 },
 "nbformat": 4,
 "nbformat_minor": 5
}
