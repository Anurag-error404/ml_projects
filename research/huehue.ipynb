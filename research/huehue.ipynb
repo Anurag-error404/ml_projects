{
 "cells": [
  {
   "cell_type": "code",
   "execution_count": 1,
   "id": "521bbcaa",
   "metadata": {},
   "outputs": [],
   "source": [
    "import pandas as pd\n",
    "import numpy as np"
   ]
  },
  {
   "cell_type": "code",
   "execution_count": 2,
   "id": "87dc7d4a",
   "metadata": {},
   "outputs": [],
   "source": [
    "df = pd.read_csv(\"mexico_covid19.csv\")"
   ]
  },
  {
   "cell_type": "code",
   "execution_count": 3,
   "id": "b78b1b12",
   "metadata": {},
   "outputs": [
    {
     "data": {
      "text/html": [
       "<div>\n",
       "<style scoped>\n",
       "    .dataframe tbody tr th:only-of-type {\n",
       "        vertical-align: middle;\n",
       "    }\n",
       "\n",
       "    .dataframe tbody tr th {\n",
       "        vertical-align: top;\n",
       "    }\n",
       "\n",
       "    .dataframe thead th {\n",
       "        text-align: right;\n",
       "    }\n",
       "</style>\n",
       "<table border=\"1\" class=\"dataframe\">\n",
       "  <thead>\n",
       "    <tr style=\"text-align: right;\">\n",
       "      <th></th>\n",
       "      <th>AGE</th>\n",
       "      <th>SEX</th>\n",
       "      <th>PNEUMONIA</th>\n",
       "      <th>DIABETES</th>\n",
       "      <th>ASTHMA</th>\n",
       "      <th>HYPERTENSION</th>\n",
       "      <th>CARDIOVASCULAR</th>\n",
       "      <th>OBESITY</th>\n",
       "      <th>CKDs</th>\n",
       "      <th>TOBACCO</th>\n",
       "      <th>RESULT</th>\n",
       "    </tr>\n",
       "  </thead>\n",
       "  <tbody>\n",
       "    <tr>\n",
       "      <th>0</th>\n",
       "      <td>74</td>\n",
       "      <td>0</td>\n",
       "      <td>0</td>\n",
       "      <td>1</td>\n",
       "      <td>0</td>\n",
       "      <td>1</td>\n",
       "      <td>0</td>\n",
       "      <td>1</td>\n",
       "      <td>0</td>\n",
       "      <td>0</td>\n",
       "      <td>0</td>\n",
       "    </tr>\n",
       "    <tr>\n",
       "      <th>1</th>\n",
       "      <td>71</td>\n",
       "      <td>1</td>\n",
       "      <td>0</td>\n",
       "      <td>1</td>\n",
       "      <td>0</td>\n",
       "      <td>1</td>\n",
       "      <td>0</td>\n",
       "      <td>1</td>\n",
       "      <td>0</td>\n",
       "      <td>1</td>\n",
       "      <td>0</td>\n",
       "    </tr>\n",
       "    <tr>\n",
       "      <th>2</th>\n",
       "      <td>50</td>\n",
       "      <td>0</td>\n",
       "      <td>1</td>\n",
       "      <td>0</td>\n",
       "      <td>0</td>\n",
       "      <td>0</td>\n",
       "      <td>0</td>\n",
       "      <td>0</td>\n",
       "      <td>0</td>\n",
       "      <td>0</td>\n",
       "      <td>1</td>\n",
       "    </tr>\n",
       "    <tr>\n",
       "      <th>3</th>\n",
       "      <td>25</td>\n",
       "      <td>1</td>\n",
       "      <td>0</td>\n",
       "      <td>0</td>\n",
       "      <td>0</td>\n",
       "      <td>0</td>\n",
       "      <td>0</td>\n",
       "      <td>1</td>\n",
       "      <td>0</td>\n",
       "      <td>0</td>\n",
       "      <td>1</td>\n",
       "    </tr>\n",
       "    <tr>\n",
       "      <th>4</th>\n",
       "      <td>28</td>\n",
       "      <td>1</td>\n",
       "      <td>0</td>\n",
       "      <td>0</td>\n",
       "      <td>0</td>\n",
       "      <td>0</td>\n",
       "      <td>0</td>\n",
       "      <td>0</td>\n",
       "      <td>0</td>\n",
       "      <td>0</td>\n",
       "      <td>0</td>\n",
       "    </tr>\n",
       "  </tbody>\n",
       "</table>\n",
       "</div>"
      ],
      "text/plain": [
       "   AGE  SEX  PNEUMONIA  DIABETES  ASTHMA  HYPERTENSION  CARDIOVASCULAR  \\\n",
       "0   74    0          0         1       0             1               0   \n",
       "1   71    1          0         1       0             1               0   \n",
       "2   50    0          1         0       0             0               0   \n",
       "3   25    1          0         0       0             0               0   \n",
       "4   28    1          0         0       0             0               0   \n",
       "\n",
       "   OBESITY  CKDs  TOBACCO  RESULT  \n",
       "0        1     0        0       0  \n",
       "1        1     0        1       0  \n",
       "2        0     0        0       1  \n",
       "3        1     0        0       1  \n",
       "4        0     0        0       0  "
      ]
     },
     "execution_count": 3,
     "metadata": {},
     "output_type": "execute_result"
    }
   ],
   "source": [
    "#The dataset has 263,007 instances or records with 41 features, and it contains demographic and clinical data as well as \n",
    "#results of RT-PCR tests for COVID-19 in patients with a viral respiratory diagnosis. it is filtered down to 10 important\n",
    "#features\n",
    "df.head()"
   ]
  },
  {
   "cell_type": "markdown",
   "id": "54f93520",
   "metadata": {},
   "source": [
    "The epidemiology dataset of positive and negative \n",
    "COVID-19 cases in Mexico has 41 features/columns written in Spanish. Therefore, the names of the features/columns were translated into English. For the purpose of this \n",
    "work only two (2) demographic features including age and \n",
    "sex and eight (8) clinical features which include pneumonia, diabetes, asthma, hypertension, cardiovascular diseases (CVDs), obesity, chronic kidney diseases (CKDs) \n",
    "and one high-risk factor which is tobacco and RT-PCR \n",
    "test result of COVID-19 in patients dataset were considered"
   ]
  },
  {
   "cell_type": "code",
   "execution_count": 4,
   "id": "e1d874bc",
   "metadata": {},
   "outputs": [
    {
     "data": {
      "text/plain": [
       "(263007, 11)"
      ]
     },
     "execution_count": 4,
     "metadata": {},
     "output_type": "execute_result"
    }
   ],
   "source": [
    "df.shape"
   ]
  },
  {
   "cell_type": "code",
   "execution_count": 5,
   "id": "f6b08929",
   "metadata": {},
   "outputs": [
    {
     "data": {
      "text/html": [
       "<div>\n",
       "<style scoped>\n",
       "    .dataframe tbody tr th:only-of-type {\n",
       "        vertical-align: middle;\n",
       "    }\n",
       "\n",
       "    .dataframe tbody tr th {\n",
       "        vertical-align: top;\n",
       "    }\n",
       "\n",
       "    .dataframe thead th {\n",
       "        text-align: right;\n",
       "    }\n",
       "</style>\n",
       "<table border=\"1\" class=\"dataframe\">\n",
       "  <thead>\n",
       "    <tr style=\"text-align: right;\">\n",
       "      <th></th>\n",
       "      <th>AGE</th>\n",
       "      <th>SEX</th>\n",
       "      <th>PNEUMONIA</th>\n",
       "      <th>DIABETES</th>\n",
       "      <th>ASTHMA</th>\n",
       "      <th>HYPERTENSION</th>\n",
       "      <th>CARDIOVASCULAR</th>\n",
       "      <th>OBESITY</th>\n",
       "      <th>CKDs</th>\n",
       "      <th>TOBACCO</th>\n",
       "      <th>RESULT</th>\n",
       "    </tr>\n",
       "  </thead>\n",
       "  <tbody>\n",
       "    <tr>\n",
       "      <th>count</th>\n",
       "      <td>263007.000000</td>\n",
       "      <td>263007.000000</td>\n",
       "      <td>263007.000000</td>\n",
       "      <td>263007.000000</td>\n",
       "      <td>263007.000000</td>\n",
       "      <td>263007.000000</td>\n",
       "      <td>263007.000000</td>\n",
       "      <td>263007.000000</td>\n",
       "      <td>263007.000000</td>\n",
       "      <td>263007.000000</td>\n",
       "      <td>263007.000000</td>\n",
       "    </tr>\n",
       "    <tr>\n",
       "      <th>mean</th>\n",
       "      <td>42.591627</td>\n",
       "      <td>0.489318</td>\n",
       "      <td>0.167440</td>\n",
       "      <td>0.506025</td>\n",
       "      <td>0.380115</td>\n",
       "      <td>0.517705</td>\n",
       "      <td>0.383876</td>\n",
       "      <td>0.524830</td>\n",
       "      <td>0.370922</td>\n",
       "      <td>0.456129</td>\n",
       "      <td>0.390328</td>\n",
       "    </tr>\n",
       "    <tr>\n",
       "      <th>std</th>\n",
       "      <td>16.903824</td>\n",
       "      <td>0.499887</td>\n",
       "      <td>0.809845</td>\n",
       "      <td>6.065576</td>\n",
       "      <td>5.796225</td>\n",
       "      <td>5.844009</td>\n",
       "      <td>5.913592</td>\n",
       "      <td>5.917735</td>\n",
       "      <td>5.839516</td>\n",
       "      <td>5.978390</td>\n",
       "      <td>0.487825</td>\n",
       "    </tr>\n",
       "    <tr>\n",
       "      <th>min</th>\n",
       "      <td>0.000000</td>\n",
       "      <td>0.000000</td>\n",
       "      <td>0.000000</td>\n",
       "      <td>0.000000</td>\n",
       "      <td>0.000000</td>\n",
       "      <td>0.000000</td>\n",
       "      <td>0.000000</td>\n",
       "      <td>0.000000</td>\n",
       "      <td>0.000000</td>\n",
       "      <td>0.000000</td>\n",
       "      <td>0.000000</td>\n",
       "    </tr>\n",
       "    <tr>\n",
       "      <th>25%</th>\n",
       "      <td>31.000000</td>\n",
       "      <td>0.000000</td>\n",
       "      <td>0.000000</td>\n",
       "      <td>0.000000</td>\n",
       "      <td>0.000000</td>\n",
       "      <td>0.000000</td>\n",
       "      <td>0.000000</td>\n",
       "      <td>0.000000</td>\n",
       "      <td>0.000000</td>\n",
       "      <td>0.000000</td>\n",
       "      <td>0.000000</td>\n",
       "    </tr>\n",
       "    <tr>\n",
       "      <th>50%</th>\n",
       "      <td>41.000000</td>\n",
       "      <td>0.000000</td>\n",
       "      <td>0.000000</td>\n",
       "      <td>0.000000</td>\n",
       "      <td>0.000000</td>\n",
       "      <td>0.000000</td>\n",
       "      <td>0.000000</td>\n",
       "      <td>0.000000</td>\n",
       "      <td>0.000000</td>\n",
       "      <td>0.000000</td>\n",
       "      <td>0.000000</td>\n",
       "    </tr>\n",
       "    <tr>\n",
       "      <th>75%</th>\n",
       "      <td>53.000000</td>\n",
       "      <td>1.000000</td>\n",
       "      <td>0.000000</td>\n",
       "      <td>0.000000</td>\n",
       "      <td>0.000000</td>\n",
       "      <td>0.000000</td>\n",
       "      <td>0.000000</td>\n",
       "      <td>0.000000</td>\n",
       "      <td>0.000000</td>\n",
       "      <td>0.000000</td>\n",
       "      <td>1.000000</td>\n",
       "    </tr>\n",
       "    <tr>\n",
       "      <th>max</th>\n",
       "      <td>120.000000</td>\n",
       "      <td>1.000000</td>\n",
       "      <td>99.000000</td>\n",
       "      <td>98.000000</td>\n",
       "      <td>98.000000</td>\n",
       "      <td>98.000000</td>\n",
       "      <td>98.000000</td>\n",
       "      <td>98.000000</td>\n",
       "      <td>98.000000</td>\n",
       "      <td>98.000000</td>\n",
       "      <td>1.000000</td>\n",
       "    </tr>\n",
       "  </tbody>\n",
       "</table>\n",
       "</div>"
      ],
      "text/plain": [
       "                 AGE            SEX      PNEUMONIA       DIABETES  \\\n",
       "count  263007.000000  263007.000000  263007.000000  263007.000000   \n",
       "mean       42.591627       0.489318       0.167440       0.506025   \n",
       "std        16.903824       0.499887       0.809845       6.065576   \n",
       "min         0.000000       0.000000       0.000000       0.000000   \n",
       "25%        31.000000       0.000000       0.000000       0.000000   \n",
       "50%        41.000000       0.000000       0.000000       0.000000   \n",
       "75%        53.000000       1.000000       0.000000       0.000000   \n",
       "max       120.000000       1.000000      99.000000      98.000000   \n",
       "\n",
       "              ASTHMA   HYPERTENSION  CARDIOVASCULAR        OBESITY  \\\n",
       "count  263007.000000  263007.000000   263007.000000  263007.000000   \n",
       "mean        0.380115       0.517705        0.383876       0.524830   \n",
       "std         5.796225       5.844009        5.913592       5.917735   \n",
       "min         0.000000       0.000000        0.000000       0.000000   \n",
       "25%         0.000000       0.000000        0.000000       0.000000   \n",
       "50%         0.000000       0.000000        0.000000       0.000000   \n",
       "75%         0.000000       0.000000        0.000000       0.000000   \n",
       "max        98.000000      98.000000       98.000000      98.000000   \n",
       "\n",
       "                CKDs        TOBACCO         RESULT  \n",
       "count  263007.000000  263007.000000  263007.000000  \n",
       "mean        0.370922       0.456129       0.390328  \n",
       "std         5.839516       5.978390       0.487825  \n",
       "min         0.000000       0.000000       0.000000  \n",
       "25%         0.000000       0.000000       0.000000  \n",
       "50%         0.000000       0.000000       0.000000  \n",
       "75%         0.000000       0.000000       1.000000  \n",
       "max        98.000000      98.000000       1.000000  "
      ]
     },
     "execution_count": 5,
     "metadata": {},
     "output_type": "execute_result"
    }
   ],
   "source": [
    "df.describe()"
   ]
  },
  {
   "cell_type": "code",
   "execution_count": 26,
   "id": "fb53676e",
   "metadata": {},
   "outputs": [
    {
     "name": "stdout",
     "output_type": "stream",
     "text": [
      "14\n"
     ]
    }
   ],
   "source": [
    "count = 0\n",
    "for i in df[\"PNEUMONIA\"]:\n",
    "    if(i != 0 and i != 1):\n",
    "        count = count + 1\n",
    "print (count)"
   ]
  },
  {
   "cell_type": "code",
   "execution_count": 32,
   "id": "c5ca758d",
   "metadata": {},
   "outputs": [
    {
     "data": {
      "text/html": [
       "<div>\n",
       "<style scoped>\n",
       "    .dataframe tbody tr th:only-of-type {\n",
       "        vertical-align: middle;\n",
       "    }\n",
       "\n",
       "    .dataframe tbody tr th {\n",
       "        vertical-align: top;\n",
       "    }\n",
       "\n",
       "    .dataframe thead th {\n",
       "        text-align: right;\n",
       "    }\n",
       "</style>\n",
       "<table border=\"1\" class=\"dataframe\">\n",
       "  <thead>\n",
       "    <tr style=\"text-align: right;\">\n",
       "      <th></th>\n",
       "      <th>AGE</th>\n",
       "      <th>SEX</th>\n",
       "      <th>PNEUMONIA</th>\n",
       "      <th>DIABETES</th>\n",
       "      <th>ASTHMA</th>\n",
       "      <th>HYPERTENSION</th>\n",
       "      <th>CARDIOVASCULAR</th>\n",
       "      <th>OBESITY</th>\n",
       "      <th>CKDs</th>\n",
       "      <th>TOBACCO</th>\n",
       "      <th>RESULT</th>\n",
       "    </tr>\n",
       "  </thead>\n",
       "  <tbody>\n",
       "    <tr>\n",
       "      <th>count</th>\n",
       "      <td>261409.000000</td>\n",
       "      <td>261409.000000</td>\n",
       "      <td>261409.000000</td>\n",
       "      <td>261409.000000</td>\n",
       "      <td>261409.000000</td>\n",
       "      <td>261409.000000</td>\n",
       "      <td>261409.000000</td>\n",
       "      <td>261409.000000</td>\n",
       "      <td>261409.000000</td>\n",
       "      <td>261409.000000</td>\n",
       "      <td>261409.000000</td>\n",
       "    </tr>\n",
       "    <tr>\n",
       "      <th>mean</th>\n",
       "      <td>42.551626</td>\n",
       "      <td>0.490006</td>\n",
       "      <td>0.161012</td>\n",
       "      <td>0.129361</td>\n",
       "      <td>0.036311</td>\n",
       "      <td>0.168472</td>\n",
       "      <td>0.025802</td>\n",
       "      <td>0.166528</td>\n",
       "      <td>0.021793</td>\n",
       "      <td>0.090368</td>\n",
       "      <td>0.389233</td>\n",
       "    </tr>\n",
       "    <tr>\n",
       "      <th>std</th>\n",
       "      <td>16.894625</td>\n",
       "      <td>0.499901</td>\n",
       "      <td>0.367543</td>\n",
       "      <td>0.335599</td>\n",
       "      <td>0.187063</td>\n",
       "      <td>0.374285</td>\n",
       "      <td>0.158546</td>\n",
       "      <td>0.372555</td>\n",
       "      <td>0.146009</td>\n",
       "      <td>0.286709</td>\n",
       "      <td>0.487577</td>\n",
       "    </tr>\n",
       "    <tr>\n",
       "      <th>min</th>\n",
       "      <td>0.000000</td>\n",
       "      <td>0.000000</td>\n",
       "      <td>0.000000</td>\n",
       "      <td>0.000000</td>\n",
       "      <td>0.000000</td>\n",
       "      <td>0.000000</td>\n",
       "      <td>0.000000</td>\n",
       "      <td>0.000000</td>\n",
       "      <td>0.000000</td>\n",
       "      <td>0.000000</td>\n",
       "      <td>0.000000</td>\n",
       "    </tr>\n",
       "    <tr>\n",
       "      <th>25%</th>\n",
       "      <td>31.000000</td>\n",
       "      <td>0.000000</td>\n",
       "      <td>0.000000</td>\n",
       "      <td>0.000000</td>\n",
       "      <td>0.000000</td>\n",
       "      <td>0.000000</td>\n",
       "      <td>0.000000</td>\n",
       "      <td>0.000000</td>\n",
       "      <td>0.000000</td>\n",
       "      <td>0.000000</td>\n",
       "      <td>0.000000</td>\n",
       "    </tr>\n",
       "    <tr>\n",
       "      <th>50%</th>\n",
       "      <td>41.000000</td>\n",
       "      <td>0.000000</td>\n",
       "      <td>0.000000</td>\n",
       "      <td>0.000000</td>\n",
       "      <td>0.000000</td>\n",
       "      <td>0.000000</td>\n",
       "      <td>0.000000</td>\n",
       "      <td>0.000000</td>\n",
       "      <td>0.000000</td>\n",
       "      <td>0.000000</td>\n",
       "      <td>0.000000</td>\n",
       "    </tr>\n",
       "    <tr>\n",
       "      <th>75%</th>\n",
       "      <td>53.000000</td>\n",
       "      <td>1.000000</td>\n",
       "      <td>0.000000</td>\n",
       "      <td>0.000000</td>\n",
       "      <td>0.000000</td>\n",
       "      <td>0.000000</td>\n",
       "      <td>0.000000</td>\n",
       "      <td>0.000000</td>\n",
       "      <td>0.000000</td>\n",
       "      <td>0.000000</td>\n",
       "      <td>1.000000</td>\n",
       "    </tr>\n",
       "    <tr>\n",
       "      <th>max</th>\n",
       "      <td>120.000000</td>\n",
       "      <td>1.000000</td>\n",
       "      <td>1.000000</td>\n",
       "      <td>1.000000</td>\n",
       "      <td>1.000000</td>\n",
       "      <td>1.000000</td>\n",
       "      <td>1.000000</td>\n",
       "      <td>1.000000</td>\n",
       "      <td>1.000000</td>\n",
       "      <td>1.000000</td>\n",
       "      <td>1.000000</td>\n",
       "    </tr>\n",
       "  </tbody>\n",
       "</table>\n",
       "</div>"
      ],
      "text/plain": [
       "                 AGE            SEX      PNEUMONIA       DIABETES  \\\n",
       "count  261409.000000  261409.000000  261409.000000  261409.000000   \n",
       "mean       42.551626       0.490006       0.161012       0.129361   \n",
       "std        16.894625       0.499901       0.367543       0.335599   \n",
       "min         0.000000       0.000000       0.000000       0.000000   \n",
       "25%        31.000000       0.000000       0.000000       0.000000   \n",
       "50%        41.000000       0.000000       0.000000       0.000000   \n",
       "75%        53.000000       1.000000       0.000000       0.000000   \n",
       "max       120.000000       1.000000       1.000000       1.000000   \n",
       "\n",
       "              ASTHMA   HYPERTENSION  CARDIOVASCULAR        OBESITY  \\\n",
       "count  261409.000000  261409.000000   261409.000000  261409.000000   \n",
       "mean        0.036311       0.168472        0.025802       0.166528   \n",
       "std         0.187063       0.374285        0.158546       0.372555   \n",
       "min         0.000000       0.000000        0.000000       0.000000   \n",
       "25%         0.000000       0.000000        0.000000       0.000000   \n",
       "50%         0.000000       0.000000        0.000000       0.000000   \n",
       "75%         0.000000       0.000000        0.000000       0.000000   \n",
       "max         1.000000       1.000000        1.000000       1.000000   \n",
       "\n",
       "                CKDs        TOBACCO         RESULT  \n",
       "count  261409.000000  261409.000000  261409.000000  \n",
       "mean        0.021793       0.090368       0.389233  \n",
       "std         0.146009       0.286709       0.487577  \n",
       "min         0.000000       0.000000       0.000000  \n",
       "25%         0.000000       0.000000       0.000000  \n",
       "50%         0.000000       0.000000       0.000000  \n",
       "75%         0.000000       0.000000       1.000000  \n",
       "max         1.000000       1.000000       1.000000  "
      ]
     },
     "execution_count": 32,
     "metadata": {},
     "output_type": "execute_result"
    }
   ],
   "source": [
    "#removing unwanted data with wrong values ie data cleaning and pre processing.\n",
    "#as described in the research paper, all values except for age are binary values.\n",
    "df_filtered = df[df[\"PNEUMONIA\"] <= 1]\n",
    "df_filtered = df_filtered[df_filtered[\"DIABETES\"] <= 1]\n",
    "df_filtered = df_filtered[df_filtered[\"ASTHMA\"] <= 1]\n",
    "df_filtered = df_filtered[df_filtered[\"HYPERTENSION\"] <= 1]\n",
    "df_filtered = df_filtered[df_filtered[\"CARDIOVASCULAR\"] <= 1]\n",
    "df_filtered = df_filtered[df_filtered[\"OBESITY\"] <= 1]\n",
    "df_filtered = df_filtered[df_filtered[\"CKDs\"] <= 1]\n",
    "df_filtered = df_filtered[df_filtered[\"TOBACCO\"] <= 1]\n",
    "df_filtered.describe()"
   ]
  },
  {
   "cell_type": "code",
   "execution_count": 43,
   "id": "417f56f7",
   "metadata": {},
   "outputs": [
    {
     "name": "stdout",
     "output_type": "stream",
     "text": [
      "6329\n"
     ]
    }
   ],
   "source": [
    "count = 0\n",
    "for i in df_filtered[\"AGE\"]:\n",
    "    if(i <= 5 or i >= 90):\n",
    "        count = count + 1\n",
    "print (count)"
   ]
  },
  {
   "cell_type": "code",
   "execution_count": 44,
   "id": "99b885e8",
   "metadata": {},
   "outputs": [
    {
     "data": {
      "text/html": [
       "<div>\n",
       "<style scoped>\n",
       "    .dataframe tbody tr th:only-of-type {\n",
       "        vertical-align: middle;\n",
       "    }\n",
       "\n",
       "    .dataframe tbody tr th {\n",
       "        vertical-align: top;\n",
       "    }\n",
       "\n",
       "    .dataframe thead th {\n",
       "        text-align: right;\n",
       "    }\n",
       "</style>\n",
       "<table border=\"1\" class=\"dataframe\">\n",
       "  <thead>\n",
       "    <tr style=\"text-align: right;\">\n",
       "      <th></th>\n",
       "      <th>AGE</th>\n",
       "      <th>SEX</th>\n",
       "      <th>PNEUMONIA</th>\n",
       "      <th>DIABETES</th>\n",
       "      <th>ASTHMA</th>\n",
       "      <th>HYPERTENSION</th>\n",
       "      <th>CARDIOVASCULAR</th>\n",
       "      <th>OBESITY</th>\n",
       "      <th>CKDs</th>\n",
       "      <th>TOBACCO</th>\n",
       "      <th>RESULT</th>\n",
       "    </tr>\n",
       "  </thead>\n",
       "  <tbody>\n",
       "    <tr>\n",
       "      <th>count</th>\n",
       "      <td>255080.000000</td>\n",
       "      <td>255080.000000</td>\n",
       "      <td>255080.000000</td>\n",
       "      <td>255080.000000</td>\n",
       "      <td>255080.000000</td>\n",
       "      <td>255080.000000</td>\n",
       "      <td>255080.000000</td>\n",
       "      <td>255080.000000</td>\n",
       "      <td>255080.000000</td>\n",
       "      <td>255080.000000</td>\n",
       "      <td>255080.000000</td>\n",
       "    </tr>\n",
       "    <tr>\n",
       "      <th>mean</th>\n",
       "      <td>43.144331</td>\n",
       "      <td>0.490564</td>\n",
       "      <td>0.158499</td>\n",
       "      <td>0.131496</td>\n",
       "      <td>0.036620</td>\n",
       "      <td>0.170347</td>\n",
       "      <td>0.025184</td>\n",
       "      <td>0.170080</td>\n",
       "      <td>0.022044</td>\n",
       "      <td>0.092065</td>\n",
       "      <td>0.394704</td>\n",
       "    </tr>\n",
       "    <tr>\n",
       "      <th>std</th>\n",
       "      <td>15.712191</td>\n",
       "      <td>0.499912</td>\n",
       "      <td>0.365209</td>\n",
       "      <td>0.337943</td>\n",
       "      <td>0.187827</td>\n",
       "      <td>0.375938</td>\n",
       "      <td>0.156685</td>\n",
       "      <td>0.375704</td>\n",
       "      <td>0.146827</td>\n",
       "      <td>0.289119</td>\n",
       "      <td>0.488788</td>\n",
       "    </tr>\n",
       "    <tr>\n",
       "      <th>min</th>\n",
       "      <td>6.000000</td>\n",
       "      <td>0.000000</td>\n",
       "      <td>0.000000</td>\n",
       "      <td>0.000000</td>\n",
       "      <td>0.000000</td>\n",
       "      <td>0.000000</td>\n",
       "      <td>0.000000</td>\n",
       "      <td>0.000000</td>\n",
       "      <td>0.000000</td>\n",
       "      <td>0.000000</td>\n",
       "      <td>0.000000</td>\n",
       "    </tr>\n",
       "    <tr>\n",
       "      <th>25%</th>\n",
       "      <td>31.000000</td>\n",
       "      <td>0.000000</td>\n",
       "      <td>0.000000</td>\n",
       "      <td>0.000000</td>\n",
       "      <td>0.000000</td>\n",
       "      <td>0.000000</td>\n",
       "      <td>0.000000</td>\n",
       "      <td>0.000000</td>\n",
       "      <td>0.000000</td>\n",
       "      <td>0.000000</td>\n",
       "      <td>0.000000</td>\n",
       "    </tr>\n",
       "    <tr>\n",
       "      <th>50%</th>\n",
       "      <td>42.000000</td>\n",
       "      <td>0.000000</td>\n",
       "      <td>0.000000</td>\n",
       "      <td>0.000000</td>\n",
       "      <td>0.000000</td>\n",
       "      <td>0.000000</td>\n",
       "      <td>0.000000</td>\n",
       "      <td>0.000000</td>\n",
       "      <td>0.000000</td>\n",
       "      <td>0.000000</td>\n",
       "      <td>0.000000</td>\n",
       "    </tr>\n",
       "    <tr>\n",
       "      <th>75%</th>\n",
       "      <td>53.000000</td>\n",
       "      <td>1.000000</td>\n",
       "      <td>0.000000</td>\n",
       "      <td>0.000000</td>\n",
       "      <td>0.000000</td>\n",
       "      <td>0.000000</td>\n",
       "      <td>0.000000</td>\n",
       "      <td>0.000000</td>\n",
       "      <td>0.000000</td>\n",
       "      <td>0.000000</td>\n",
       "      <td>1.000000</td>\n",
       "    </tr>\n",
       "    <tr>\n",
       "      <th>max</th>\n",
       "      <td>89.000000</td>\n",
       "      <td>1.000000</td>\n",
       "      <td>1.000000</td>\n",
       "      <td>1.000000</td>\n",
       "      <td>1.000000</td>\n",
       "      <td>1.000000</td>\n",
       "      <td>1.000000</td>\n",
       "      <td>1.000000</td>\n",
       "      <td>1.000000</td>\n",
       "      <td>1.000000</td>\n",
       "      <td>1.000000</td>\n",
       "    </tr>\n",
       "  </tbody>\n",
       "</table>\n",
       "</div>"
      ],
      "text/plain": [
       "                 AGE            SEX      PNEUMONIA       DIABETES  \\\n",
       "count  255080.000000  255080.000000  255080.000000  255080.000000   \n",
       "mean       43.144331       0.490564       0.158499       0.131496   \n",
       "std        15.712191       0.499912       0.365209       0.337943   \n",
       "min         6.000000       0.000000       0.000000       0.000000   \n",
       "25%        31.000000       0.000000       0.000000       0.000000   \n",
       "50%        42.000000       0.000000       0.000000       0.000000   \n",
       "75%        53.000000       1.000000       0.000000       0.000000   \n",
       "max        89.000000       1.000000       1.000000       1.000000   \n",
       "\n",
       "              ASTHMA   HYPERTENSION  CARDIOVASCULAR        OBESITY  \\\n",
       "count  255080.000000  255080.000000   255080.000000  255080.000000   \n",
       "mean        0.036620       0.170347        0.025184       0.170080   \n",
       "std         0.187827       0.375938        0.156685       0.375704   \n",
       "min         0.000000       0.000000        0.000000       0.000000   \n",
       "25%         0.000000       0.000000        0.000000       0.000000   \n",
       "50%         0.000000       0.000000        0.000000       0.000000   \n",
       "75%         0.000000       0.000000        0.000000       0.000000   \n",
       "max         1.000000       1.000000        1.000000       1.000000   \n",
       "\n",
       "                CKDs        TOBACCO         RESULT  \n",
       "count  255080.000000  255080.000000  255080.000000  \n",
       "mean        0.022044       0.092065       0.394704  \n",
       "std         0.146827       0.289119       0.488788  \n",
       "min         0.000000       0.000000       0.000000  \n",
       "25%         0.000000       0.000000       0.000000  \n",
       "50%         0.000000       0.000000       0.000000  \n",
       "75%         0.000000       0.000000       1.000000  \n",
       "max         1.000000       1.000000       1.000000  "
      ]
     },
     "execution_count": 44,
     "metadata": {},
     "output_type": "execute_result"
    }
   ],
   "source": [
    "#since there are some data points for which the patient is either too young or too old to be considered as a normal case,\n",
    "#we remove these to focus on only those data points for which the given feature set matters.\n",
    "df_filtered = df_filtered[df_filtered[\"AGE\"] > 5]\n",
    "df_filtered = df_filtered[df_filtered[\"AGE\"] < 90]\n",
    "df_filtered.describe()"
   ]
  },
  {
   "cell_type": "markdown",
   "id": "624259b9",
   "metadata": {},
   "source": [
    "The original dataset encoded 1 for positive and 2 \n",
    "for negative, but for this work we encoded 1 for positive \n",
    "and 0 for negative across the dataset instances including sex data feature which was encoded 1 for male and \n",
    "0 for female. "
   ]
  },
  {
   "cell_type": "code",
   "execution_count": 7,
   "id": "f100fdd1",
   "metadata": {},
   "outputs": [],
   "source": [
    "#the dataset has no missing values\n",
    "#plotting some data\n",
    "import matplotlib.pyplot as plt"
   ]
  },
  {
   "cell_type": "code",
   "execution_count": 46,
   "id": "df19a280",
   "metadata": {},
   "outputs": [
    {
     "data": {
      "image/png": "[encoded data removed]",
      "text/plain": [
       "<Figure size 432x288 with 1 Axes>"
      ]
     },
     "metadata": {
      "needs_background": "light"
     },
     "output_type": "display_data"
    }
   ],
   "source": [
    "plt.hist(df_filtered['SEX'])\n",
    "plt.show()"
   ]
  },
  {
   "cell_type": "code",
   "execution_count": 47,
   "id": "3cb53aa3",
   "metadata": {},
   "outputs": [
    {
     "data": {
      "image/png": "[encoded data removed]",
      "text/plain": [
       "<Figure size 432x288 with 1 Axes>"
      ]
     },
     "metadata": {
      "needs_background": "light"
     },
     "output_type": "display_data"
    }
   ],
   "source": [
    "plt.hist(df_filtered['AGE'])\n",
    "plt.grid(True)\n",
    "plt.show()"
   ]
  },
  {
   "cell_type": "code",
   "execution_count": 48,
   "id": "eb6fd45e",
   "metadata": {},
   "outputs": [
    {
     "data": {
      "image/png": "[encoded data removed]",
      "text/plain": [
       "<Figure size 432x288 with 1 Axes>"
      ]
     },
     "metadata": {
      "needs_background": "light"
     },
     "output_type": "display_data"
    }
   ],
   "source": [
    "plt.hist(df_filtered['RESULT'])\n",
    "plt.grid(True)\n",
    "plt.show()"
   ]
  },
  {
   "cell_type": "code",
   "execution_count": 49,
   "id": "84ccfd06",
   "metadata": {},
   "outputs": [
    {
     "data": {
      "text/html": [
       "<div>\n",
       "<style scoped>\n",
       "    .dataframe tbody tr th:only-of-type {\n",
       "        vertical-align: middle;\n",
       "    }\n",
       "\n",
       "    .dataframe tbody tr th {\n",
       "        vertical-align: top;\n",
       "    }\n",
       "\n",
       "    .dataframe thead th {\n",
       "        text-align: right;\n",
       "    }\n",
       "</style>\n",
       "<table border=\"1\" class=\"dataframe\">\n",
       "  <thead>\n",
       "    <tr style=\"text-align: right;\">\n",
       "      <th></th>\n",
       "      <th>AGE</th>\n",
       "      <th>SEX</th>\n",
       "      <th>PNEUMONIA</th>\n",
       "      <th>DIABETES</th>\n",
       "      <th>ASTHMA</th>\n",
       "      <th>HYPERTENSION</th>\n",
       "      <th>CARDIOVASCULAR</th>\n",
       "      <th>OBESITY</th>\n",
       "      <th>CKDs</th>\n",
       "      <th>TOBACCO</th>\n",
       "      <th>RESULT</th>\n",
       "    </tr>\n",
       "  </thead>\n",
       "  <tbody>\n",
       "    <tr>\n",
       "      <th>0</th>\n",
       "      <td>74</td>\n",
       "      <td>0</td>\n",
       "      <td>0</td>\n",
       "      <td>1</td>\n",
       "      <td>0</td>\n",
       "      <td>1</td>\n",
       "      <td>0</td>\n",
       "      <td>1</td>\n",
       "      <td>0</td>\n",
       "      <td>0</td>\n",
       "      <td>0</td>\n",
       "    </tr>\n",
       "    <tr>\n",
       "      <th>1</th>\n",
       "      <td>71</td>\n",
       "      <td>1</td>\n",
       "      <td>0</td>\n",
       "      <td>1</td>\n",
       "      <td>0</td>\n",
       "      <td>1</td>\n",
       "      <td>0</td>\n",
       "      <td>1</td>\n",
       "      <td>0</td>\n",
       "      <td>1</td>\n",
       "      <td>0</td>\n",
       "    </tr>\n",
       "    <tr>\n",
       "      <th>2</th>\n",
       "      <td>50</td>\n",
       "      <td>0</td>\n",
       "      <td>1</td>\n",
       "      <td>0</td>\n",
       "      <td>0</td>\n",
       "      <td>0</td>\n",
       "      <td>0</td>\n",
       "      <td>0</td>\n",
       "      <td>0</td>\n",
       "      <td>0</td>\n",
       "      <td>1</td>\n",
       "    </tr>\n",
       "    <tr>\n",
       "      <th>3</th>\n",
       "      <td>25</td>\n",
       "      <td>1</td>\n",
       "      <td>0</td>\n",
       "      <td>0</td>\n",
       "      <td>0</td>\n",
       "      <td>0</td>\n",
       "      <td>0</td>\n",
       "      <td>1</td>\n",
       "      <td>0</td>\n",
       "      <td>0</td>\n",
       "      <td>1</td>\n",
       "    </tr>\n",
       "    <tr>\n",
       "      <th>4</th>\n",
       "      <td>28</td>\n",
       "      <td>1</td>\n",
       "      <td>0</td>\n",
       "      <td>0</td>\n",
       "      <td>0</td>\n",
       "      <td>0</td>\n",
       "      <td>0</td>\n",
       "      <td>0</td>\n",
       "      <td>0</td>\n",
       "      <td>0</td>\n",
       "      <td>0</td>\n",
       "    </tr>\n",
       "  </tbody>\n",
       "</table>\n",
       "</div>"
      ],
      "text/plain": [
       "   AGE  SEX  PNEUMONIA  DIABETES  ASTHMA  HYPERTENSION  CARDIOVASCULAR  \\\n",
       "0   74    0          0         1       0             1               0   \n",
       "1   71    1          0         1       0             1               0   \n",
       "2   50    0          1         0       0             0               0   \n",
       "3   25    1          0         0       0             0               0   \n",
       "4   28    1          0         0       0             0               0   \n",
       "\n",
       "   OBESITY  CKDs  TOBACCO  RESULT  \n",
       "0        1     0        0       0  \n",
       "1        1     0        1       0  \n",
       "2        0     0        0       1  \n",
       "3        1     0        0       1  \n",
       "4        0     0        0       0  "
      ]
     },
     "execution_count": 49,
     "metadata": {},
     "output_type": "execute_result"
    }
   ],
   "source": [
    "#mention correlation analysis\n",
    "#Before the development of the model, the correlation coefcient analysis between the various dependent and independent \n",
    "#features was carried out to determine a strong relationship between each dependent feature and independent feature of the \n",
    "#dataset\n",
    "df_filtered.head()"
   ]
  },
  {
   "cell_type": "code",
   "execution_count": 50,
   "id": "76604321",
   "metadata": {},
   "outputs": [
    {
     "name": "stdout",
     "output_type": "stream",
     "text": [
      "X (255080, 10)\n",
      "Y (255080,)\n"
     ]
    }
   ],
   "source": [
    "# create X(Independent data) and y(dependent data)\n",
    "feature = [\"AGE\",\"SEX\",\"PNEUMONIA\",\"DIABETES\",\"ASTHMA\",\"HYPERTENSION\",\"CARDIOVASCULAR\",\"OBESITY\", \"CKDs\", \"TOBACCO\"]\n",
    "X = df_filtered[feature]\n",
    "Y = df_filtered[\"RESULT\"]\n",
    "print(\"X\", X.shape)\n",
    "print(\"Y\", Y.shape)"
   ]
  },
  {
   "cell_type": "code",
   "execution_count": 52,
   "id": "a702b7c1",
   "metadata": {},
   "outputs": [
    {
     "name": "stdout",
     "output_type": "stream",
     "text": [
      "X_train (204064, 10)\n",
      "X_test (51016, 10)\n",
      "Y_train (204064,)\n",
      "Y_test (51016,)\n"
     ]
    }
   ],
   "source": [
    "#The epidemiology dataset for positive and negative COVID-19 cases in Mexico been partitioned into training and testing sets\n",
    "#Therefore, the model were trained the models with 80% training data and tested with the remaining 20% of the dataset.\n",
    "from sklearn import model_selection\n",
    "X_train, X_test, Y_train, Y_test = model_selection.train_test_split(X, Y, test_size = 0.2)\n",
    "print(\"X_train\", X_train.shape)\n",
    "print(\"X_test\", X_test.shape)\n",
    "print(\"Y_train\", Y_train.shape)\n",
    "print(\"Y_test\", Y_test.shape)"
   ]
  },
  {
   "cell_type": "code",
   "execution_count": 14,
   "id": "9e3a0697",
   "metadata": {},
   "outputs": [],
   "source": [
    "#now we gotta implement the models and check their performance"
   ]
  },
  {
   "cell_type": "markdown",
   "id": "670ab2b9",
   "metadata": {},
   "source": [
    "Logistic Regression"
   ]
  },
  {
   "cell_type": "code",
   "execution_count": 15,
   "id": "f162fdcb",
   "metadata": {},
   "outputs": [],
   "source": [
    "from sklearn.linear_model import LogisticRegression"
   ]
  },
  {
   "cell_type": "code",
   "execution_count": 53,
   "id": "0dc4df8b",
   "metadata": {},
   "outputs": [
    {
     "data": {
      "text/plain": [
       "LogisticRegression(C=100000.0, max_iter=1000, solver='saga')"
      ]
     },
     "execution_count": 53,
     "metadata": {},
     "output_type": "execute_result"
    }
   ],
   "source": [
    "#fitting the data\n",
    "clf = LogisticRegression(max_iter = 1000, C=100000.0, solver='saga')\n",
    "clf.fit(X_train, Y_train)"
   ]
  },
  {
   "cell_type": "code",
   "execution_count": 54,
   "id": "b51194da",
   "metadata": {},
   "outputs": [
    {
     "data": {
      "text/plain": [
       "0.6466451701427003"
      ]
     },
     "execution_count": 54,
     "metadata": {},
     "output_type": "execute_result"
    }
   ],
   "source": [
    "#accuracy\n",
    "clf.score(X_train, Y_train)"
   ]
  },
  {
   "cell_type": "code",
   "execution_count": 55,
   "id": "906d2b43",
   "metadata": {},
   "outputs": [
    {
     "data": {
      "text/plain": [
       "0.6461894307668182"
      ]
     },
     "execution_count": 55,
     "metadata": {},
     "output_type": "execute_result"
    }
   ],
   "source": [
    "clf.score(X_test, Y_test)"
   ]
  },
  {
   "cell_type": "code",
   "execution_count": 56,
   "id": "01844d40",
   "metadata": {},
   "outputs": [
    {
     "data": {
      "text/plain": [
       "LogisticRegression(C=100000.0, max_iter=1000, solver='saga')"
      ]
     },
     "execution_count": 56,
     "metadata": {},
     "output_type": "execute_result"
    }
   ],
   "source": [
    "#tweeking parameters\n",
    "clf2 = LogisticRegression(max_iter = 1000, C=100000.0, solver='saga')\n",
    "clf2.fit(X_train, Y_train)"
   ]
  },
  {
   "cell_type": "code",
   "execution_count": 57,
   "id": "1cdfa7a5",
   "metadata": {},
   "outputs": [
    {
     "data": {
      "text/plain": [
       "0.6466451701427003"
      ]
     },
     "execution_count": 57,
     "metadata": {},
     "output_type": "execute_result"
    }
   ],
   "source": [
    "#accuracy score\n",
    "clf2.score(X_train, Y_train)"
   ]
  },
  {
   "cell_type": "code",
   "execution_count": 58,
   "id": "3200c68f",
   "metadata": {},
   "outputs": [
    {
     "data": {
      "text/plain": [
       "0.6461894307668182"
      ]
     },
     "execution_count": 58,
     "metadata": {},
     "output_type": "execute_result"
    }
   ],
   "source": [
    "clf2.score(X_test, Y_test)"
   ]
  },
  {
   "cell_type": "code",
   "execution_count": 59,
   "id": "dc242f69",
   "metadata": {},
   "outputs": [
    {
     "data": {
      "text/plain": [
       "LogisticRegression(C=0.01, max_iter=10000, solver='liblinear')"
      ]
     },
     "execution_count": 59,
     "metadata": {},
     "output_type": "execute_result"
    }
   ],
   "source": [
    "#some more tweeking\n",
    "clf3 = LogisticRegression(max_iter = 10000, C=0.01, solver='liblinear')\n",
    "clf3.fit(X_train, Y_train)"
   ]
  },
  {
   "cell_type": "code",
   "execution_count": 60,
   "id": "5b1610c5",
   "metadata": {},
   "outputs": [
    {
     "name": "stdout",
     "output_type": "stream",
     "text": [
      "Train data: 0.6466696722596832\n",
      "Test data: 0.6461894307668182\n"
     ]
    }
   ],
   "source": [
    "#accuracy\n",
    "print(\"Train data:\", clf3.score(X_train, Y_train))\n",
    "print(\"Test data:\", clf3.score(X_test, Y_test))"
   ]
  },
  {
   "cell_type": "code",
   "execution_count": 61,
   "id": "5d8713fc",
   "metadata": {},
   "outputs": [
    {
     "data": {
      "text/plain": [
       "array([0, 0, 0, ..., 0, 1, 0], dtype=int64)"
      ]
     },
     "execution_count": 61,
     "metadata": {},
     "output_type": "execute_result"
    }
   ],
   "source": [
    "#predictions array\n",
    "predictions_ontrain = clf.predict(X_train)\n",
    "predictions_ontrain"
   ]
  },
  {
   "cell_type": "code",
   "execution_count": 62,
   "id": "024149be",
   "metadata": {},
   "outputs": [
    {
     "name": "stdout",
     "output_type": "stream",
     "text": [
      "[[109493  14026]\n",
      " [ 58081  22464]]\n"
     ]
    }
   ],
   "source": [
    "#printing confusion matrix\n",
    "import seaborn as sns\n",
    "from sklearn import metrics\n",
    "cm = metrics.confusion_matrix(Y_train, predictions_ontrain)\n",
    "print(cm)\n",
    "#false negatives kaafi zyada hai"
   ]
  },
  {
   "cell_type": "markdown",
   "id": "601fbb7f",
   "metadata": {},
   "source": [
    "Decision Tree"
   ]
  },
  {
   "cell_type": "code",
   "execution_count": 63,
   "id": "47a3a1cd",
   "metadata": {},
   "outputs": [],
   "source": [
    "#impoting \n",
    "from sklearn.tree import DecisionTreeClassifier"
   ]
  },
  {
   "cell_type": "code",
   "execution_count": 64,
   "id": "94e2bbdd",
   "metadata": {},
   "outputs": [
    {
     "data": {
      "text/plain": [
       "DecisionTreeClassifier()"
      ]
     },
     "execution_count": 64,
     "metadata": {},
     "output_type": "execute_result"
    }
   ],
   "source": [
    "#training the model\n",
    "DT_clf = DecisionTreeClassifier()\n",
    "DT_clf.fit(X_train, Y_train)"
   ]
  },
  {
   "cell_type": "code",
   "execution_count": 67,
   "id": "d58481d0",
   "metadata": {},
   "outputs": [
    {
     "name": "stdout",
     "output_type": "stream",
     "text": [
      "train data: 0.6679326093774502\n",
      "test data: 0.6387995922847735\n"
     ]
    }
   ],
   "source": [
    "#accuracy score\n",
    "print(\"train data:\", DT_clf.score(X_train, Y_train))\n",
    "print(\"test data:\", DT_clf.score(X_test, Y_test))"
   ]
  },
  {
   "cell_type": "code",
   "execution_count": 68,
   "id": "48f97808",
   "metadata": {},
   "outputs": [
    {
     "name": "stdout",
     "output_type": "stream",
     "text": [
      "training data confusion matrix\n",
      "[[110922  12597]\n",
      " [ 55166  25379]]\n",
      "testing data confusion matrix\n",
      "[[26946  3934]\n",
      " [14493  5643]]\n"
     ]
    }
   ],
   "source": [
    "#confusion matrix\n",
    "prediction_ontrain_dt = DT_clf.predict(X_train)\n",
    "prediction_ontest_dt = DT_clf.predict(X_test)\n",
    "print(\"training data confusion matrix\")\n",
    "print(metrics.confusion_matrix(Y_train, prediction_ontrain_dt))\n",
    "print(\"testing data confusion matrix\")\n",
    "print(metrics.confusion_matrix(Y_test, prediction_ontest_dt))\n",
    "#again flase negatives zyada hai"
   ]
  },
  {
   "cell_type": "markdown",
   "id": "48ff0825",
   "metadata": {},
   "source": [
    "Naive Bayes"
   ]
  },
  {
   "cell_type": "code",
   "execution_count": 71,
   "id": "9709ef36",
   "metadata": {},
   "outputs": [
    {
     "name": "stdout",
     "output_type": "stream",
     "text": [
      "train 0.6301895483769798\n",
      "test 0.6316449741257645\n"
     ]
    }
   ],
   "source": [
    "from sklearn.naive_bayes import GaussianNB\n",
    "NB_clf = GaussianNB()\n",
    "NB_clf.fit(X_train, Y_train)\n",
    "print(\"train\", NB_clf.score(X_train, Y_train))\n",
    "print(\"test\", NB_clf.score(X_test, Y_test))"
   ]
  },
  {
   "cell_type": "markdown",
   "id": "36f58efb",
   "metadata": {},
   "source": [
    "SVM"
   ]
  },
  {
   "cell_type": "code",
   "execution_count": null,
   "id": "24139e0f",
   "metadata": {},
   "outputs": [],
   "source": [
    "from sklearn.svm import SVC\n",
    "SVM_clf = SVC(kernel='linear', C=1).fit(X_train, Y_train)"
   ]
  },
  {
   "cell_type": "code",
   "execution_count": null,
   "id": "23e2c8ff",
   "metadata": {},
   "outputs": [],
   "source": []
  },
  {
   "cell_type": "code",
   "execution_count": null,
   "id": "cac289b0",
   "metadata": {},
   "outputs": [],
   "source": []
  },
  {
   "cell_type": "code",
   "execution_count": null,
   "id": "700e40a6",
   "metadata": {},
   "outputs": [],
   "source": []
  },
  {
   "cell_type": "code",
   "execution_count": null,
   "id": "ba6de503",
   "metadata": {},
   "outputs": [],
   "source": []
  }
 ],
 "metadata": {
  "kernelspec": {
   "display_name": "Python 3 (ipykernel)",
   "language": "python",
   "name": "python3"
  },
  "language_info": {
   "codemirror_mode": {
    "name": "ipython",
    "version": 3
   },
   "file_extension": ".py",
   "mimetype": "text/x-python",
   "name": "python",
   "nbconvert_exporter": "python",
   "pygments_lexer": "ipython3",
   "version": "3.9.2"
  }
 },
 "nbformat": 4,
 "nbformat_minor": 5
}
