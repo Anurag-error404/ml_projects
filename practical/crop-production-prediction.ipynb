{
 "cells": [
  {
   "cell_type": "code",
   "execution_count": 1,
   "metadata": {
    "execution": {
     "iopub.execute_input": "2022-03-06T08:48:13.833814Z",
     "iopub.status.busy": "2022-03-06T08:48:13.833273Z",
     "iopub.status.idle": "2022-03-06T08:48:14.497491Z",
     "shell.execute_reply": "2022-03-06T08:48:14.496531Z",
     "shell.execute_reply.started": "2022-03-06T08:48:13.833752Z"
    }
   },
   "outputs": [],
   "source": [
    "import pandas as pd\n",
    "import matplotlib.pyplot as plt\n",
    "import seaborn as sns\n",
    "import numpy as np"
   ]
  },
  {
   "cell_type": "code",
   "execution_count": 2,
   "metadata": {
    "execution": {
     "iopub.execute_input": "2022-03-06T08:48:14.500128Z",
     "iopub.status.busy": "2022-03-06T08:48:14.499754Z",
     "iopub.status.idle": "2022-03-06T08:48:14.794034Z",
     "shell.execute_reply": "2022-03-06T08:48:14.792876Z",
     "shell.execute_reply.started": "2022-03-06T08:48:14.500061Z"
    }
   },
   "outputs": [
    {
     "data": {
      "text/html": [
       "<div>\n",
       "<style scoped>\n",
       "    .dataframe tbody tr th:only-of-type {\n",
       "        vertical-align: middle;\n",
       "    }\n",
       "\n",
       "    .dataframe tbody tr th {\n",
       "        vertical-align: top;\n",
       "    }\n",
       "\n",
       "    .dataframe thead th {\n",
       "        text-align: right;\n",
       "    }\n",
       "</style>\n",
       "<table border=\"1\" class=\"dataframe\">\n",
       "  <thead>\n",
       "    <tr style=\"text-align: right;\">\n",
       "      <th></th>\n",
       "      <th>State_Name</th>\n",
       "      <th>District_Name</th>\n",
       "      <th>Crop_Year</th>\n",
       "      <th>Season</th>\n",
       "      <th>Crop</th>\n",
       "      <th>Area</th>\n",
       "      <th>Production</th>\n",
       "    </tr>\n",
       "  </thead>\n",
       "  <tbody>\n",
       "    <tr>\n",
       "      <th>0</th>\n",
       "      <td>Andaman and Nicobar Islands</td>\n",
       "      <td>NICOBARS</td>\n",
       "      <td>2000</td>\n",
       "      <td>Kharif</td>\n",
       "      <td>Arecanut</td>\n",
       "      <td>1254.0</td>\n",
       "      <td>2000.0</td>\n",
       "    </tr>\n",
       "    <tr>\n",
       "      <th>1</th>\n",
       "      <td>Andaman and Nicobar Islands</td>\n",
       "      <td>NICOBARS</td>\n",
       "      <td>2000</td>\n",
       "      <td>Kharif</td>\n",
       "      <td>Other Kharif pulses</td>\n",
       "      <td>2.0</td>\n",
       "      <td>1.0</td>\n",
       "    </tr>\n",
       "    <tr>\n",
       "      <th>2</th>\n",
       "      <td>Andaman and Nicobar Islands</td>\n",
       "      <td>NICOBARS</td>\n",
       "      <td>2000</td>\n",
       "      <td>Kharif</td>\n",
       "      <td>Rice</td>\n",
       "      <td>102.0</td>\n",
       "      <td>321.0</td>\n",
       "    </tr>\n",
       "    <tr>\n",
       "      <th>3</th>\n",
       "      <td>Andaman and Nicobar Islands</td>\n",
       "      <td>NICOBARS</td>\n",
       "      <td>2000</td>\n",
       "      <td>Whole Year</td>\n",
       "      <td>Banana</td>\n",
       "      <td>176.0</td>\n",
       "      <td>641.0</td>\n",
       "    </tr>\n",
       "    <tr>\n",
       "      <th>4</th>\n",
       "      <td>Andaman and Nicobar Islands</td>\n",
       "      <td>NICOBARS</td>\n",
       "      <td>2000</td>\n",
       "      <td>Whole Year</td>\n",
       "      <td>Cashewnut</td>\n",
       "      <td>720.0</td>\n",
       "      <td>165.0</td>\n",
       "    </tr>\n",
       "  </tbody>\n",
       "</table>\n",
       "</div>"
      ],
      "text/plain": [
       "                    State_Name District_Name  Crop_Year       Season  \\\n",
       "0  Andaman and Nicobar Islands      NICOBARS       2000  Kharif        \n",
       "1  Andaman and Nicobar Islands      NICOBARS       2000  Kharif        \n",
       "2  Andaman and Nicobar Islands      NICOBARS       2000  Kharif        \n",
       "3  Andaman and Nicobar Islands      NICOBARS       2000  Whole Year    \n",
       "4  Andaman and Nicobar Islands      NICOBARS       2000  Whole Year    \n",
       "\n",
       "                  Crop    Area  Production  \n",
       "0             Arecanut  1254.0      2000.0  \n",
       "1  Other Kharif pulses     2.0         1.0  \n",
       "2                 Rice   102.0       321.0  \n",
       "3               Banana   176.0       641.0  \n",
       "4            Cashewnut   720.0       165.0  "
      ]
     },
     "execution_count": 2,
     "metadata": {},
     "output_type": "execute_result"
    }
   ],
   "source": [
    "df = pd.read_csv(\"crop_production.csv\")\n",
    "df[:5]"
   ]
  },
  {
   "cell_type": "markdown",
   "metadata": {},
   "source": [
    "# Data Exploration"
   ]
  },
  {
   "cell_type": "code",
   "execution_count": 3,
   "metadata": {
    "execution": {
     "iopub.execute_input": "2022-03-06T08:48:14.795765Z",
     "iopub.status.busy": "2022-03-06T08:48:14.795474Z",
     "iopub.status.idle": "2022-03-06T08:48:14.84678Z",
     "shell.execute_reply": "2022-03-06T08:48:14.845815Z",
     "shell.execute_reply.started": "2022-03-06T08:48:14.795713Z"
    }
   },
   "outputs": [
    {
     "data": {
      "text/plain": [
       "State_Name          0\n",
       "District_Name       0\n",
       "Crop_Year           0\n",
       "Season              0\n",
       "Crop                0\n",
       "Area                0\n",
       "Production       3730\n",
       "dtype: int64"
      ]
     },
     "execution_count": 3,
     "metadata": {},
     "output_type": "execute_result"
    }
   ],
   "source": [
    "df.isnull().sum()"
   ]
  },
  {
   "cell_type": "code",
   "execution_count": 4,
   "metadata": {
    "execution": {
     "iopub.execute_input": "2022-03-06T08:48:14.849073Z",
     "iopub.status.busy": "2022-03-06T08:48:14.848453Z",
     "iopub.status.idle": "2022-03-06T08:48:14.933858Z",
     "shell.execute_reply": "2022-03-06T08:48:14.932737Z",
     "shell.execute_reply.started": "2022-03-06T08:48:14.849013Z"
    }
   },
   "outputs": [
    {
     "name": "stdout",
     "output_type": "stream",
     "text": [
      "(242361, 7)\n",
      "(3730, 6)\n"
     ]
    }
   ],
   "source": [
    "# Droping Nan Values\n",
    "data = df.dropna()\n",
    "print(data.shape)\n",
    "test = df[~df[\"Production\"].notna()].drop(\"Production\",axis=1)\n",
    "print(test.shape)"
   ]
  },
  {
   "cell_type": "code",
   "execution_count": 5,
   "metadata": {
    "execution": {
     "iopub.execute_input": "2022-03-06T08:48:14.938432Z",
     "iopub.status.busy": "2022-03-06T08:48:14.937892Z",
     "iopub.status.idle": "2022-03-06T08:48:14.942151Z",
     "shell.execute_reply": "2022-03-06T08:48:14.941437Z",
     "shell.execute_reply.started": "2022-03-06T08:48:14.938203Z"
    }
   },
   "outputs": [],
   "source": [
    "#for i in data.columns:\n",
    "    #print(\"column name :\",i)\n",
    "    #print(\"No. of column :\",len(data[i].unique()))\n",
    "    #print(data[i].unique())"
   ]
  },
  {
   "cell_type": "code",
   "execution_count": 6,
   "metadata": {
    "execution": {
     "iopub.execute_input": "2022-03-06T08:48:14.945145Z",
     "iopub.status.busy": "2022-03-06T08:48:14.944823Z",
     "iopub.status.idle": "2022-03-06T08:48:15.132177Z",
     "shell.execute_reply": "2022-03-06T08:48:15.131145Z",
     "shell.execute_reply.started": "2022-03-06T08:48:14.945091Z"
    }
   },
   "outputs": [
    {
     "name": "stderr",
     "output_type": "stream",
     "text": [
      "C:\\Users\\ANURAG\\AppData\\Local\\Temp\\ipykernel_18900\\1048416122.py:2: SettingWithCopyWarning: \n",
      "A value is trying to be set on a copy of a slice from a DataFrame.\n",
      "Try using .loc[row_indexer,col_indexer] = value instead\n",
      "\n",
      "See the caveats in the documentation: https://pandas.pydata.org/pandas-docs/stable/user_guide/indexing.html#returning-a-view-versus-a-copy\n",
      "  data[\"percent_of_production\"] = data[\"Production\"].map(lambda x:(x/sum_maxp)*100)\n"
     ]
    }
   ],
   "source": [
    "sum_maxp = data[\"Production\"].sum()\n",
    "data[\"percent_of_production\"] = data[\"Production\"].map(lambda x:(x/sum_maxp)*100)"
   ]
  },
  {
   "cell_type": "code",
   "execution_count": 7,
   "metadata": {
    "execution": {
     "iopub.execute_input": "2022-03-06T08:48:15.13474Z",
     "iopub.status.busy": "2022-03-06T08:48:15.134164Z",
     "iopub.status.idle": "2022-03-06T08:48:15.150409Z",
     "shell.execute_reply": "2022-03-06T08:48:15.149606Z",
     "shell.execute_reply.started": "2022-03-06T08:48:15.134526Z"
    }
   },
   "outputs": [
    {
     "data": {
      "text/html": [
       "<div>\n",
       "<style scoped>\n",
       "    .dataframe tbody tr th:only-of-type {\n",
       "        vertical-align: middle;\n",
       "    }\n",
       "\n",
       "    .dataframe tbody tr th {\n",
       "        vertical-align: top;\n",
       "    }\n",
       "\n",
       "    .dataframe thead th {\n",
       "        text-align: right;\n",
       "    }\n",
       "</style>\n",
       "<table border=\"1\" class=\"dataframe\">\n",
       "  <thead>\n",
       "    <tr style=\"text-align: right;\">\n",
       "      <th></th>\n",
       "      <th>State_Name</th>\n",
       "      <th>District_Name</th>\n",
       "      <th>Crop_Year</th>\n",
       "      <th>Season</th>\n",
       "      <th>Crop</th>\n",
       "      <th>Area</th>\n",
       "      <th>Production</th>\n",
       "      <th>percent_of_production</th>\n",
       "    </tr>\n",
       "  </thead>\n",
       "  <tbody>\n",
       "    <tr>\n",
       "      <th>0</th>\n",
       "      <td>Andaman and Nicobar Islands</td>\n",
       "      <td>NICOBARS</td>\n",
       "      <td>2000</td>\n",
       "      <td>Kharif</td>\n",
       "      <td>Arecanut</td>\n",
       "      <td>1254.0</td>\n",
       "      <td>2000.0</td>\n",
       "      <td>1.416670e-06</td>\n",
       "    </tr>\n",
       "    <tr>\n",
       "      <th>1</th>\n",
       "      <td>Andaman and Nicobar Islands</td>\n",
       "      <td>NICOBARS</td>\n",
       "      <td>2000</td>\n",
       "      <td>Kharif</td>\n",
       "      <td>Other Kharif pulses</td>\n",
       "      <td>2.0</td>\n",
       "      <td>1.0</td>\n",
       "      <td>7.083351e-10</td>\n",
       "    </tr>\n",
       "    <tr>\n",
       "      <th>2</th>\n",
       "      <td>Andaman and Nicobar Islands</td>\n",
       "      <td>NICOBARS</td>\n",
       "      <td>2000</td>\n",
       "      <td>Kharif</td>\n",
       "      <td>Rice</td>\n",
       "      <td>102.0</td>\n",
       "      <td>321.0</td>\n",
       "      <td>2.273756e-07</td>\n",
       "    </tr>\n",
       "    <tr>\n",
       "      <th>3</th>\n",
       "      <td>Andaman and Nicobar Islands</td>\n",
       "      <td>NICOBARS</td>\n",
       "      <td>2000</td>\n",
       "      <td>Whole Year</td>\n",
       "      <td>Banana</td>\n",
       "      <td>176.0</td>\n",
       "      <td>641.0</td>\n",
       "      <td>4.540428e-07</td>\n",
       "    </tr>\n",
       "    <tr>\n",
       "      <th>4</th>\n",
       "      <td>Andaman and Nicobar Islands</td>\n",
       "      <td>NICOBARS</td>\n",
       "      <td>2000</td>\n",
       "      <td>Whole Year</td>\n",
       "      <td>Cashewnut</td>\n",
       "      <td>720.0</td>\n",
       "      <td>165.0</td>\n",
       "      <td>1.168753e-07</td>\n",
       "    </tr>\n",
       "  </tbody>\n",
       "</table>\n",
       "</div>"
      ],
      "text/plain": [
       "                    State_Name District_Name  Crop_Year       Season  \\\n",
       "0  Andaman and Nicobar Islands      NICOBARS       2000  Kharif        \n",
       "1  Andaman and Nicobar Islands      NICOBARS       2000  Kharif        \n",
       "2  Andaman and Nicobar Islands      NICOBARS       2000  Kharif        \n",
       "3  Andaman and Nicobar Islands      NICOBARS       2000  Whole Year    \n",
       "4  Andaman and Nicobar Islands      NICOBARS       2000  Whole Year    \n",
       "\n",
       "                  Crop    Area  Production  percent_of_production  \n",
       "0             Arecanut  1254.0      2000.0           1.416670e-06  \n",
       "1  Other Kharif pulses     2.0         1.0           7.083351e-10  \n",
       "2                 Rice   102.0       321.0           2.273756e-07  \n",
       "3               Banana   176.0       641.0           4.540428e-07  \n",
       "4            Cashewnut   720.0       165.0           1.168753e-07  "
      ]
     },
     "execution_count": 7,
     "metadata": {},
     "output_type": "execute_result"
    }
   ],
   "source": [
    "data[:5]"
   ]
  },
  {
   "cell_type": "markdown",
   "metadata": {},
   "source": [
    "# Data Visulization"
   ]
  },
  {
   "cell_type": "code",
   "execution_count": 8,
   "metadata": {
    "execution": {
     "iopub.execute_input": "2022-03-06T08:48:15.152207Z",
     "iopub.status.busy": "2022-03-06T08:48:15.151926Z",
     "iopub.status.idle": "2022-03-06T08:48:19.790049Z",
     "shell.execute_reply": "2022-03-06T08:48:19.788421Z",
     "shell.execute_reply.started": "2022-03-06T08:48:15.15216Z"
    }
   },
   "outputs": [
    {
     "ename": "TypeError",
     "evalue": "lineplot() takes from 0 to 1 positional arguments but 2 were given",
     "output_type": "error",
     "traceback": [
      "\u001b[1;31m---------------------------------------------------------------------------\u001b[0m",
      "\u001b[1;31mTypeError\u001b[0m                                 Traceback (most recent call last)",
      "Cell \u001b[1;32mIn [8], line 1\u001b[0m\n\u001b[1;32m----> 1\u001b[0m \u001b[43msns\u001b[49m\u001b[38;5;241;43m.\u001b[39;49m\u001b[43mlineplot\u001b[49m\u001b[43m(\u001b[49m\u001b[43mdata\u001b[49m\u001b[43m[\u001b[49m\u001b[38;5;124;43m\"\u001b[39;49m\u001b[38;5;124;43mCrop_Year\u001b[39;49m\u001b[38;5;124;43m\"\u001b[39;49m\u001b[43m]\u001b[49m\u001b[43m,\u001b[49m\u001b[43mdata\u001b[49m\u001b[43m[\u001b[49m\u001b[38;5;124;43m\"\u001b[39;49m\u001b[38;5;124;43mProduction\u001b[39;49m\u001b[38;5;124;43m\"\u001b[39;49m\u001b[43m]\u001b[49m\u001b[43m)\u001b[49m\n",
      "\u001b[1;31mTypeError\u001b[0m: lineplot() takes from 0 to 1 positional arguments but 2 were given"
     ]
    }
   ],
   "source": [
    "sns.lineplot(data[\"Crop_Year\"],data[\"Production\"])"
   ]
  },
  {
   "cell_type": "code",
   "execution_count": null,
   "metadata": {
    "execution": {
     "iopub.execute_input": "2022-03-06T08:48:19.792936Z",
     "iopub.status.busy": "2022-03-06T08:48:19.792339Z",
     "iopub.status.idle": "2022-03-06T08:48:26.031726Z",
     "shell.execute_reply": "2022-03-06T08:48:26.030789Z",
     "shell.execute_reply.started": "2022-03-06T08:48:19.792697Z"
    }
   },
   "outputs": [],
   "source": [
    "plt.figure(figsize=(25,10))\n",
    "sns.barplot(data[\"State_Name\"],data[\"Production\"])\n",
    "plt.xticks(rotation=90)"
   ]
  },
  {
   "cell_type": "code",
   "execution_count": null,
   "metadata": {
    "execution": {
     "iopub.execute_input": "2022-03-06T08:48:26.033518Z",
     "iopub.status.busy": "2022-03-06T08:48:26.033177Z",
     "iopub.status.idle": "2022-03-06T08:49:01.184532Z",
     "shell.execute_reply": "2022-03-06T08:49:01.183038Z",
     "shell.execute_reply.started": "2022-03-06T08:48:26.033464Z"
    }
   },
   "outputs": [],
   "source": [
    "sns.jointplot(data[\"Area\"],data[\"Production\"],kind='reg')"
   ]
  },
  {
   "cell_type": "code",
   "execution_count": null,
   "metadata": {
    "execution": {
     "iopub.execute_input": "2022-03-06T08:49:01.1899Z",
     "iopub.status.busy": "2022-03-06T08:49:01.189126Z",
     "iopub.status.idle": "2022-03-06T08:49:05.95967Z",
     "shell.execute_reply": "2022-03-06T08:49:05.958636Z",
     "shell.execute_reply.started": "2022-03-06T08:49:01.189545Z"
    }
   },
   "outputs": [],
   "source": [
    "sns.barplot(data[\"Season\"],data[\"Production\"])"
   ]
  },
  {
   "cell_type": "code",
   "execution_count": null,
   "metadata": {
    "execution": {
     "iopub.execute_input": "2022-03-06T08:49:05.962232Z",
     "iopub.status.busy": "2022-03-06T08:49:05.9615Z",
     "iopub.status.idle": "2022-03-06T08:49:06.02491Z",
     "shell.execute_reply": "2022-03-06T08:49:06.023919Z",
     "shell.execute_reply.started": "2022-03-06T08:49:05.962156Z"
    }
   },
   "outputs": [],
   "source": [
    "data.groupby(\"Season\",axis=0).agg({\"Production\":np.sum})"
   ]
  },
  {
   "cell_type": "code",
   "execution_count": null,
   "metadata": {
    "execution": {
     "iopub.execute_input": "2022-03-06T08:49:06.028026Z",
     "iopub.status.busy": "2022-03-06T08:49:06.027675Z",
     "iopub.status.idle": "2022-03-06T08:49:06.058433Z",
     "shell.execute_reply": "2022-03-06T08:49:06.057637Z",
     "shell.execute_reply.started": "2022-03-06T08:49:06.027969Z"
    }
   },
   "outputs": [],
   "source": [
    "data[\"Crop\"].value_counts()[:5]"
   ]
  },
  {
   "cell_type": "code",
   "execution_count": null,
   "metadata": {
    "execution": {
     "iopub.execute_input": "2022-03-06T08:49:06.059927Z",
     "iopub.status.busy": "2022-03-06T08:49:06.059565Z",
     "iopub.status.idle": "2022-03-06T08:49:06.094628Z",
     "shell.execute_reply": "2022-03-06T08:49:06.093887Z",
     "shell.execute_reply.started": "2022-03-06T08:49:06.059889Z"
    }
   },
   "outputs": [],
   "source": [
    "top_crop_pro = data.groupby(\"Crop\")[\"Production\"].sum().reset_index().sort_values(by='Production',ascending=False)\n",
    "top_crop_pro[:5]"
   ]
  },
  {
   "cell_type": "markdown",
   "metadata": {},
   "source": [
    "## Each type of crops required various area & various season. so, I'm going to pic top crop from this data"
   ]
  },
  {
   "cell_type": "markdown",
   "metadata": {},
   "source": [
    "### 1.Rice"
   ]
  },
  {
   "cell_type": "code",
   "execution_count": null,
   "metadata": {
    "execution": {
     "iopub.execute_input": "2022-03-06T08:49:06.096534Z",
     "iopub.status.busy": "2022-03-06T08:49:06.095978Z",
     "iopub.status.idle": "2022-03-06T08:49:06.129073Z",
     "shell.execute_reply": "2022-03-06T08:49:06.128392Z",
     "shell.execute_reply.started": "2022-03-06T08:49:06.096476Z"
    }
   },
   "outputs": [],
   "source": [
    "rice_df = data[data[\"Crop\"]==\"Rice\"]\n",
    "print(rice_df.shape)\n",
    "rice_df[:3]"
   ]
  },
  {
   "cell_type": "code",
   "execution_count": null,
   "metadata": {
    "execution": {
     "iopub.execute_input": "2022-03-06T08:49:06.130598Z",
     "iopub.status.busy": "2022-03-06T08:49:06.130172Z",
     "iopub.status.idle": "2022-03-06T08:49:06.827617Z",
     "shell.execute_reply": "2022-03-06T08:49:06.826519Z",
     "shell.execute_reply.started": "2022-03-06T08:49:06.130548Z"
    }
   },
   "outputs": [],
   "source": [
    "sns.barplot(\"Season\",\"Production\",data=rice_df)"
   ]
  },
  {
   "cell_type": "code",
   "execution_count": null,
   "metadata": {
    "execution": {
     "iopub.execute_input": "2022-03-06T08:49:06.829964Z",
     "iopub.status.busy": "2022-03-06T08:49:06.829366Z",
     "iopub.status.idle": "2022-03-06T08:49:08.827171Z",
     "shell.execute_reply": "2022-03-06T08:49:08.826255Z",
     "shell.execute_reply.started": "2022-03-06T08:49:06.8299Z"
    }
   },
   "outputs": [],
   "source": [
    "plt.figure(figsize=(13,10))\n",
    "sns.barplot(\"State_Name\",\"Production\",data=rice_df)\n",
    "plt.xticks(rotation=90)\n",
    "plt.show()"
   ]
  },
  {
   "cell_type": "code",
   "execution_count": null,
   "metadata": {
    "execution": {
     "iopub.execute_input": "2022-03-06T08:49:08.828993Z",
     "iopub.status.busy": "2022-03-06T08:49:08.828656Z",
     "iopub.status.idle": "2022-03-06T08:49:08.85113Z",
     "shell.execute_reply": "2022-03-06T08:49:08.850161Z",
     "shell.execute_reply.started": "2022-03-06T08:49:08.828882Z"
    }
   },
   "outputs": [],
   "source": [
    "top_rice_pro_dis = rice_df.groupby(\"District_Name\")[\"Production\"].sum().reset_index().sort_values(\n",
    "    by='Production',ascending=False)\n",
    "top_rice_pro_dis[:5]\n",
    "sum_max = top_rice_pro_dis[\"Production\"].sum()\n",
    "top_rice_pro_dis[\"precent_of_pro\"] = top_rice_pro_dis[\"Production\"].map(lambda x:(x/sum_max)*100)\n",
    "top_rice_pro_dis[:5]"
   ]
  },
  {
   "cell_type": "code",
   "execution_count": null,
   "metadata": {
    "execution": {
     "iopub.execute_input": "2022-03-06T08:49:08.852929Z",
     "iopub.status.busy": "2022-03-06T08:49:08.852608Z",
     "iopub.status.idle": "2022-03-06T08:49:19.21647Z",
     "shell.execute_reply": "2022-03-06T08:49:19.215233Z",
     "shell.execute_reply.started": "2022-03-06T08:49:08.852875Z"
    }
   },
   "outputs": [],
   "source": [
    "plt.figure(figsize=(18,12))\n",
    "sns.barplot(\"District_Name\",\"Production\",data=top_rice_pro_dis)\n",
    "plt.xticks(rotation=90)\n",
    "plt.show()"
   ]
  },
  {
   "cell_type": "code",
   "execution_count": null,
   "metadata": {
    "execution": {
     "iopub.execute_input": "2022-03-06T08:49:19.218578Z",
     "iopub.status.busy": "2022-03-06T08:49:19.218026Z",
     "iopub.status.idle": "2022-03-06T08:49:20.620703Z",
     "shell.execute_reply": "2022-03-06T08:49:20.619991Z",
     "shell.execute_reply.started": "2022-03-06T08:49:19.218518Z"
    }
   },
   "outputs": [],
   "source": [
    "plt.figure(figsize=(15,10))\n",
    "sns.barplot(\"Crop_Year\",\"Production\",data=rice_df)\n",
    "plt.xticks(rotation=45)\n",
    "#plt.legend(rice_df['State_Name'].unique())\n",
    "plt.show()"
   ]
  },
  {
   "cell_type": "code",
   "execution_count": null,
   "metadata": {
    "execution": {
     "iopub.execute_input": "2022-03-06T08:49:20.622546Z",
     "iopub.status.busy": "2022-03-06T08:49:20.622021Z",
     "iopub.status.idle": "2022-03-06T08:49:22.552063Z",
     "shell.execute_reply": "2022-03-06T08:49:22.551039Z",
     "shell.execute_reply.started": "2022-03-06T08:49:20.622489Z"
    },
    "scrolled": true
   },
   "outputs": [],
   "source": [
    "sns.jointplot(\"Area\",\"Production\",data=rice_df,kind=\"reg\")"
   ]
  },
  {
   "cell_type": "markdown",
   "metadata": {},
   "source": [
    "# Insights:\n",
    "From Data Visualization:\n",
    "Rice production is mostly depends on Season, Area, State(place)."
   ]
  },
  {
   "cell_type": "markdown",
   "metadata": {},
   "source": [
    "# 2. Coconut"
   ]
  },
  {
   "cell_type": "code",
   "execution_count": null,
   "metadata": {
    "execution": {
     "iopub.execute_input": "2022-03-06T08:49:22.554262Z",
     "iopub.status.busy": "2022-03-06T08:49:22.553611Z",
     "iopub.status.idle": "2022-03-06T08:49:22.586753Z",
     "shell.execute_reply": "2022-03-06T08:49:22.586017Z",
     "shell.execute_reply.started": "2022-03-06T08:49:22.5542Z"
    }
   },
   "outputs": [],
   "source": [
    "coc_df = data[data[\"Crop\"]==\"Coconut \"]\n",
    "print(coc_df.shape)\n",
    "coc_df[:3]"
   ]
  },
  {
   "cell_type": "code",
   "execution_count": null,
   "metadata": {
    "execution": {
     "iopub.execute_input": "2022-03-06T08:49:22.590305Z",
     "iopub.status.busy": "2022-03-06T08:49:22.589841Z",
     "iopub.status.idle": "2022-03-06T08:49:22.804951Z",
     "shell.execute_reply": "2022-03-06T08:49:22.804084Z",
     "shell.execute_reply.started": "2022-03-06T08:49:22.590261Z"
    }
   },
   "outputs": [],
   "source": [
    "sns.barplot(\"Season\",\"Production\",data=coc_df)"
   ]
  },
  {
   "cell_type": "code",
   "execution_count": null,
   "metadata": {
    "execution": {
     "iopub.execute_input": "2022-03-06T08:49:22.806835Z",
     "iopub.status.busy": "2022-03-06T08:49:22.806512Z",
     "iopub.status.idle": "2022-03-06T08:49:23.502019Z",
     "shell.execute_reply": "2022-03-06T08:49:23.501285Z",
     "shell.execute_reply.started": "2022-03-06T08:49:22.806781Z"
    }
   },
   "outputs": [],
   "source": [
    "plt.figure(figsize=(13,10))\n",
    "sns.barplot(\"State_Name\",\"Production\",data=coc_df)\n",
    "plt.xticks(rotation=90)\n",
    "plt.show()"
   ]
  },
  {
   "cell_type": "code",
   "execution_count": null,
   "metadata": {
    "execution": {
     "iopub.execute_input": "2022-03-06T08:49:23.503882Z",
     "iopub.status.busy": "2022-03-06T08:49:23.503372Z",
     "iopub.status.idle": "2022-03-06T08:49:23.525348Z",
     "shell.execute_reply": "2022-03-06T08:49:23.524417Z",
     "shell.execute_reply.started": "2022-03-06T08:49:23.503823Z"
    }
   },
   "outputs": [],
   "source": [
    "top_coc_pro_dis = coc_df.groupby(\"District_Name\")[\"Production\"].sum().reset_index().sort_values(\n",
    "    by='Production',ascending=False)\n",
    "top_coc_pro_dis[:5]\n",
    "sum_max = top_coc_pro_dis[\"Production\"].sum()\n",
    "top_coc_pro_dis[\"precent_of_pro\"] = top_coc_pro_dis[\"Production\"].map(lambda x:(x/sum_max)*100)\n",
    "top_coc_pro_dis[:5]"
   ]
  },
  {
   "cell_type": "code",
   "execution_count": null,
   "metadata": {
    "execution": {
     "iopub.execute_input": "2022-03-06T08:49:23.527372Z",
     "iopub.status.busy": "2022-03-06T08:49:23.527007Z",
     "iopub.status.idle": "2022-03-06T08:49:25.886099Z",
     "shell.execute_reply": "2022-03-06T08:49:25.885083Z",
     "shell.execute_reply.started": "2022-03-06T08:49:23.527298Z"
    }
   },
   "outputs": [],
   "source": [
    "plt.figure(figsize=(18,12))\n",
    "sns.barplot(\"District_Name\",\"Production\",data=top_coc_pro_dis)\n",
    "plt.xticks(rotation=90)\n",
    "plt.show()"
   ]
  },
  {
   "cell_type": "code",
   "execution_count": null,
   "metadata": {
    "execution": {
     "iopub.execute_input": "2022-03-06T08:49:25.887881Z",
     "iopub.status.busy": "2022-03-06T08:49:25.887593Z",
     "iopub.status.idle": "2022-03-06T08:49:26.88829Z",
     "shell.execute_reply": "2022-03-06T08:49:26.887534Z",
     "shell.execute_reply.started": "2022-03-06T08:49:25.887831Z"
    }
   },
   "outputs": [],
   "source": [
    "plt.figure(figsize=(15,10))\n",
    "sns.barplot(\"Crop_Year\",\"Production\",data=coc_df)\n",
    "plt.xticks(rotation=45)\n",
    "#plt.legend(rice_df['State_Name'].unique())\n",
    "plt.show()"
   ]
  },
  {
   "cell_type": "code",
   "execution_count": null,
   "metadata": {
    "execution": {
     "iopub.execute_input": "2022-03-06T08:49:26.890531Z",
     "iopub.status.busy": "2022-03-06T08:49:26.88997Z",
     "iopub.status.idle": "2022-03-06T08:49:27.977963Z",
     "shell.execute_reply": "2022-03-06T08:49:27.976864Z",
     "shell.execute_reply.started": "2022-03-06T08:49:26.890468Z"
    },
    "scrolled": true
   },
   "outputs": [],
   "source": [
    "sns.jointplot(\"Area\",\"Production\",data=coc_df,kind=\"reg\")"
   ]
  },
  {
   "cell_type": "markdown",
   "metadata": {},
   "source": [
    "# Insight from Cocunut Production"
   ]
  },
  {
   "cell_type": "markdown",
   "metadata": {},
   "source": [
    "* cocunut production is directly proportional to area\n",
    "* its production is also gradually increasing over a time of period\n",
    "* production is highin kerala state\n",
    "* it does not depends on season"
   ]
  },
  {
   "cell_type": "markdown",
   "metadata": {},
   "source": [
    "# 3. Sugarcane"
   ]
  },
  {
   "cell_type": "code",
   "execution_count": null,
   "metadata": {
    "execution": {
     "iopub.execute_input": "2022-03-06T08:49:27.980251Z",
     "iopub.status.busy": "2022-03-06T08:49:27.979874Z",
     "iopub.status.idle": "2022-03-06T08:49:28.046932Z",
     "shell.execute_reply": "2022-03-06T08:49:28.045789Z",
     "shell.execute_reply.started": "2022-03-06T08:49:27.980194Z"
    }
   },
   "outputs": [],
   "source": [
    "sug_df = data[data[\"Crop\"]==\"Sugarcane\"]\n",
    "print(sug_df.shape)\n",
    "sug_df[:3]"
   ]
  },
  {
   "cell_type": "code",
   "execution_count": null,
   "metadata": {
    "execution": {
     "iopub.execute_input": "2022-03-06T08:49:28.049332Z",
     "iopub.status.busy": "2022-03-06T08:49:28.048639Z",
     "iopub.status.idle": "2022-03-06T08:49:28.577889Z",
     "shell.execute_reply": "2022-03-06T08:49:28.576601Z",
     "shell.execute_reply.started": "2022-03-06T08:49:28.04926Z"
    }
   },
   "outputs": [],
   "source": [
    "sns.barplot(\"Season\",\"Production\",data=sug_df)"
   ]
  },
  {
   "cell_type": "code",
   "execution_count": null,
   "metadata": {
    "execution": {
     "iopub.execute_input": "2022-03-06T08:49:28.580332Z",
     "iopub.status.busy": "2022-03-06T08:49:28.579782Z",
     "iopub.status.idle": "2022-03-06T08:49:30.353821Z",
     "shell.execute_reply": "2022-03-06T08:49:30.352803Z",
     "shell.execute_reply.started": "2022-03-06T08:49:28.580126Z"
    }
   },
   "outputs": [],
   "source": [
    "plt.figure(figsize=(13,8))\n",
    "sns.barplot(\"State_Name\",\"Production\",data=sug_df)\n",
    "plt.xticks(rotation=90)\n",
    "plt.show()"
   ]
  },
  {
   "cell_type": "code",
   "execution_count": null,
   "metadata": {
    "execution": {
     "iopub.execute_input": "2022-03-06T08:49:30.358456Z",
     "iopub.status.busy": "2022-03-06T08:49:30.358067Z",
     "iopub.status.idle": "2022-03-06T08:49:30.378275Z",
     "shell.execute_reply": "2022-03-06T08:49:30.377191Z",
     "shell.execute_reply.started": "2022-03-06T08:49:30.358392Z"
    }
   },
   "outputs": [],
   "source": [
    "top_sug_pro_dis = sug_df.groupby(\"District_Name\")[\"Production\"].sum().reset_index().sort_values(\n",
    "    by='Production',ascending=False)\n",
    "top_sug_pro_dis[:5]\n",
    "sum_max = top_sug_pro_dis[\"Production\"].sum()\n",
    "top_sug_pro_dis[\"precent_of_pro\"] = top_sug_pro_dis[\"Production\"].map(lambda x:(x/sum_max)*100)\n",
    "top_sug_pro_dis[:5]"
   ]
  },
  {
   "cell_type": "code",
   "execution_count": null,
   "metadata": {
    "execution": {
     "iopub.execute_input": "2022-03-06T08:49:30.379979Z",
     "iopub.status.busy": "2022-03-06T08:49:30.37956Z",
     "iopub.status.idle": "2022-03-06T08:49:39.96304Z",
     "shell.execute_reply": "2022-03-06T08:49:39.962149Z",
     "shell.execute_reply.started": "2022-03-06T08:49:30.37992Z"
    }
   },
   "outputs": [],
   "source": [
    "plt.figure(figsize=(18,8))\n",
    "sns.barplot(\"District_Name\",\"Production\",data=top_sug_pro_dis)\n",
    "plt.xticks(rotation=90)\n",
    "plt.show()"
   ]
  },
  {
   "cell_type": "code",
   "execution_count": null,
   "metadata": {
    "execution": {
     "iopub.execute_input": "2022-03-06T08:49:39.964862Z",
     "iopub.status.busy": "2022-03-06T08:49:39.964577Z",
     "iopub.status.idle": "2022-03-06T08:49:41.155675Z",
     "shell.execute_reply": "2022-03-06T08:49:41.154366Z",
     "shell.execute_reply.started": "2022-03-06T08:49:39.964812Z"
    }
   },
   "outputs": [],
   "source": [
    "plt.figure(figsize=(15,10))\n",
    "sns.barplot(\"Crop_Year\",\"Production\",data=sug_df)\n",
    "plt.xticks(rotation=45)\n",
    "#plt.legend(rice_df['State_Name'].unique())\n",
    "plt.show()"
   ]
  },
  {
   "cell_type": "code",
   "execution_count": null,
   "metadata": {
    "execution": {
     "iopub.execute_input": "2022-03-06T08:49:41.157427Z",
     "iopub.status.busy": "2022-03-06T08:49:41.157136Z",
     "iopub.status.idle": "2022-03-06T08:49:42.652951Z",
     "shell.execute_reply": "2022-03-06T08:49:42.65178Z",
     "shell.execute_reply.started": "2022-03-06T08:49:41.157378Z"
    }
   },
   "outputs": [],
   "source": [
    "sns.jointplot(\"Area\",\"Production\",data=sug_df,kind=\"reg\")"
   ]
  },
  {
   "cell_type": "markdown",
   "metadata": {},
   "source": [
    "# Insighits:\n",
    "* Sugarecane production is directly proportional to area\n",
    "* And the production is high in some state only."
   ]
  },
  {
   "cell_type": "markdown",
   "metadata": {},
   "source": [
    "# Feature Selection"
   ]
  },
  {
   "cell_type": "code",
   "execution_count": null,
   "metadata": {
    "execution": {
     "iopub.execute_input": "2022-03-06T08:49:42.65523Z",
     "iopub.status.busy": "2022-03-06T08:49:42.65463Z",
     "iopub.status.idle": "2022-03-06T08:49:42.691348Z",
     "shell.execute_reply": "2022-03-06T08:49:42.690482Z",
     "shell.execute_reply.started": "2022-03-06T08:49:42.655168Z"
    }
   },
   "outputs": [],
   "source": [
    "data1 = data.drop([\"District_Name\",\"Crop_Year\"],axis=1)"
   ]
  },
  {
   "cell_type": "code",
   "execution_count": null,
   "metadata": {
    "execution": {
     "iopub.execute_input": "2022-03-06T08:49:42.693322Z",
     "iopub.status.busy": "2022-03-06T08:49:42.692944Z",
     "iopub.status.idle": "2022-03-06T08:49:42.972569Z",
     "shell.execute_reply": "2022-03-06T08:49:42.971607Z",
     "shell.execute_reply.started": "2022-03-06T08:49:42.693254Z"
    }
   },
   "outputs": [],
   "source": [
    "data_dum = pd.get_dummies(data1)\n",
    "data_dum[:5]"
   ]
  },
  {
   "cell_type": "markdown",
   "metadata": {},
   "source": [
    "# Test Train Split"
   ]
  },
  {
   "cell_type": "code",
   "execution_count": null,
   "metadata": {
    "execution": {
     "iopub.execute_input": "2022-03-06T08:49:42.974586Z",
     "iopub.status.busy": "2022-03-06T08:49:42.974187Z",
     "iopub.status.idle": "2022-03-06T08:49:43.794636Z",
     "shell.execute_reply": "2022-03-06T08:49:43.793605Z",
     "shell.execute_reply.started": "2022-03-06T08:49:42.974515Z"
    }
   },
   "outputs": [],
   "source": [
    "x = data_dum.drop(\"Production\",axis=1)\n",
    "y = data_dum[[\"Production\"]]\n",
    "from sklearn.model_selection import train_test_split\n",
    "x_train,x_test,y_train,y_test = train_test_split(x,y,test_size=0.33, random_state=42)\n",
    "print(\"x_train :\",x_train.shape)\n",
    "print(\"x_test :\",x_test.shape)\n",
    "print(\"y_train :\",y_train.shape)\n",
    "print(\"y_test :\",y_test.shape)\n"
   ]
  },
  {
   "cell_type": "code",
   "execution_count": null,
   "metadata": {
    "execution": {
     "iopub.execute_input": "2022-03-06T08:49:43.796333Z",
     "iopub.status.busy": "2022-03-06T08:49:43.796072Z",
     "iopub.status.idle": "2022-03-06T08:49:43.827246Z",
     "shell.execute_reply": "2022-03-06T08:49:43.826266Z",
     "shell.execute_reply.started": "2022-03-06T08:49:43.796288Z"
    }
   },
   "outputs": [],
   "source": [
    "x_train[:5]"
   ]
  },
  {
   "cell_type": "markdown",
   "metadata": {},
   "source": [
    "# Model -1: Random Forest"
   ]
  },
  {
   "cell_type": "code",
   "execution_count": null,
   "metadata": {
    "execution": {
     "iopub.execute_input": "2022-03-06T08:49:43.829494Z",
     "iopub.status.busy": "2022-03-06T08:49:43.829093Z",
     "iopub.status.idle": "2022-03-06T08:50:45.16424Z",
     "shell.execute_reply": "2022-03-06T08:50:45.163313Z",
     "shell.execute_reply.started": "2022-03-06T08:49:43.829428Z"
    }
   },
   "outputs": [],
   "source": [
    "from sklearn.ensemble import RandomForestRegressor\n",
    "model = RandomForestRegressor()\n",
    "model.fit(x_train,y_train)\n",
    "preds = model.predict(x_test)"
   ]
  },
  {
   "cell_type": "code",
   "execution_count": null,
   "metadata": {
    "execution": {
     "iopub.execute_input": "2022-03-06T08:50:45.166003Z",
     "iopub.status.busy": "2022-03-06T08:50:45.165705Z",
     "iopub.status.idle": "2022-03-06T08:50:45.173664Z",
     "shell.execute_reply": "2022-03-06T08:50:45.172833Z",
     "shell.execute_reply.started": "2022-03-06T08:50:45.165949Z"
    }
   },
   "outputs": [],
   "source": [
    "from sklearn.metrics import r2_score\n",
    "r = r2_score(y_test,preds)\n",
    "print(\"R2score when we predict using Randomn forest is \",r)"
   ]
  },
  {
   "cell_type": "markdown",
   "metadata": {},
   "source": [
    "# Model -2 : Linear Regression"
   ]
  },
  {
   "cell_type": "code",
   "execution_count": null,
   "metadata": {
    "execution": {
     "iopub.execute_input": "2022-03-06T08:50:45.175428Z",
     "iopub.status.busy": "2022-03-06T08:50:45.175075Z",
     "iopub.status.idle": "2022-03-06T08:50:46.810777Z",
     "shell.execute_reply": "2022-03-06T08:50:46.809708Z",
     "shell.execute_reply.started": "2022-03-06T08:50:45.175347Z"
    }
   },
   "outputs": [],
   "source": [
    "from sklearn.linear_model import LinearRegression\n",
    "model = LinearRegression()\n",
    "model.fit(x_train,y_train)"
   ]
  },
  {
   "cell_type": "code",
   "execution_count": null,
   "metadata": {
    "execution": {
     "iopub.execute_input": "2022-03-06T08:50:46.819382Z",
     "iopub.status.busy": "2022-03-06T08:50:46.816394Z",
     "iopub.status.idle": "2022-03-06T08:50:46.893961Z",
     "shell.execute_reply": "2022-03-06T08:50:46.892855Z",
     "shell.execute_reply.started": "2022-03-06T08:50:46.819266Z"
    }
   },
   "outputs": [],
   "source": [
    "preds = model.predict(x_test)"
   ]
  },
  {
   "cell_type": "code",
   "execution_count": null,
   "metadata": {
    "execution": {
     "iopub.execute_input": "2022-03-06T08:50:46.903196Z",
     "iopub.status.busy": "2022-03-06T08:50:46.899675Z",
     "iopub.status.idle": "2022-03-06T08:50:46.922746Z",
     "shell.execute_reply": "2022-03-06T08:50:46.921592Z",
     "shell.execute_reply.started": "2022-03-06T08:50:46.903063Z"
    }
   },
   "outputs": [],
   "source": [
    "from sklearn.metrics import mean_squared_error, r2_score\n",
    "mean_squared_error(y_test,preds)\n",
    "r2_score(y_test,preds)"
   ]
  },
  {
   "cell_type": "markdown",
   "metadata": {},
   "source": [
    "# Model 3: XGBRegresor"
   ]
  },
  {
   "cell_type": "code",
   "execution_count": null,
   "metadata": {
    "execution": {
     "iopub.execute_input": "2022-03-06T08:50:46.931623Z",
     "iopub.status.busy": "2022-03-06T08:50:46.9286Z",
     "iopub.status.idle": "2022-03-06T08:51:41.517548Z",
     "shell.execute_reply": "2022-03-06T08:51:41.51668Z",
     "shell.execute_reply.started": "2022-03-06T08:50:46.931532Z"
    }
   },
   "outputs": [],
   "source": [
    "import xgboost as xgb\n",
    "\n",
    "xgbr = xgb.XGBRegressor(verbosity=0) \n",
    "xgbr.fit(x_train,y_train)"
   ]
  },
  {
   "cell_type": "code",
   "execution_count": null,
   "metadata": {
    "execution": {
     "iopub.execute_input": "2022-03-06T08:51:41.519199Z",
     "iopub.status.busy": "2022-03-06T08:51:41.518927Z",
     "iopub.status.idle": "2022-03-06T08:51:41.927072Z",
     "shell.execute_reply": "2022-03-06T08:51:41.926054Z",
     "shell.execute_reply.started": "2022-03-06T08:51:41.519148Z"
    }
   },
   "outputs": [],
   "source": [
    "preds = xgbr.predict(x_test)\n",
    "\n",
    "mean_squared_error(y_test,preds)\n",
    "r2_score(y_test,preds)"
   ]
  },
  {
   "cell_type": "markdown",
   "metadata": {},
   "source": [
    "# Model 4: Decision Tree"
   ]
  },
  {
   "cell_type": "code",
   "execution_count": null,
   "metadata": {
    "execution": {
     "iopub.execute_input": "2022-03-06T08:51:41.928522Z",
     "iopub.status.busy": "2022-03-06T08:51:41.928261Z",
     "iopub.status.idle": "2022-03-06T08:51:51.834581Z",
     "shell.execute_reply": "2022-03-06T08:51:51.833754Z",
     "shell.execute_reply.started": "2022-03-06T08:51:41.928478Z"
    }
   },
   "outputs": [],
   "source": [
    "from sklearn.tree import DecisionTreeRegressor\n",
    "\n",
    "regressor = DecisionTreeRegressor(random_state=42)\n",
    "regressor.fit(x_train,y_train)"
   ]
  },
  {
   "cell_type": "code",
   "execution_count": null,
   "metadata": {
    "execution": {
     "iopub.execute_input": "2022-03-06T08:51:51.836931Z",
     "iopub.status.busy": "2022-03-06T08:51:51.83638Z",
     "iopub.status.idle": "2022-03-06T08:51:51.970841Z",
     "shell.execute_reply": "2022-03-06T08:51:51.970031Z",
     "shell.execute_reply.started": "2022-03-06T08:51:51.8367Z"
    }
   },
   "outputs": [],
   "source": [
    "preds = regressor.predict(x_test)\n",
    "\n",
    "mean_squared_error(y_test,preds)\n",
    "r2_score(y_test,preds)"
   ]
  }
 ],
 "metadata": {
  "kernelspec": {
   "display_name": "Python 3 (ipykernel)",
   "language": "python",
   "name": "python3"
  },
  "language_info": {
   "codemirror_mode": {
    "name": "ipython",
    "version": 3
   },
   "file_extension": ".py",
   "mimetype": "text/x-python",
   "name": "python",
   "nbconvert_exporter": "python",
   "pygments_lexer": "ipython3",
   "version": "3.9.2"
  }
 },
 "nbformat": 4,
 "nbformat_minor": 4
}
